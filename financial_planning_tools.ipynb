{
 "cells": [
  {
   "cell_type": "markdown",
   "metadata": {},
   "source": [
    "# Financial Planning with APIs and Simulations\n",
    "\n",
    "In this Challenge, you’ll create two financial analysis tools by using a single Jupyter notebook:\n",
    "\n",
    "Part 1: A financial planner for emergencies. The members will be able to use this tool to visualize their current savings. The members can then determine if they have enough reserves for an emergency fund.\n",
    "\n",
    "Part 2: A financial planner for retirement. This tool will forecast the performance of their retirement portfolio in 30 years. To do this, the tool will make an Alpaca API call via the Alpaca SDK to get historical price data for use in Monte Carlo simulations.\n",
    "\n",
    "You’ll use the information from the Monte Carlo simulation to answer questions about the portfolio in your Jupyter notebook.\n",
    "\n"
   ]
  },
  {
   "cell_type": "code",
   "execution_count": 1,
   "metadata": {},
   "outputs": [],
   "source": [
    "# Import the required libraries and dependencies\n",
    "import os\n",
    "import requests\n",
    "import json\n",
    "import pandas as pd\n",
    "from dotenv import load_dotenv\n",
    "import alpaca_trade_api as tradeapi\n",
    "from MCForecastTools import MCSimulation\n",
    "import datetime\n",
    "\n",
    "%matplotlib inline"
   ]
  },
  {
   "cell_type": "code",
   "execution_count": 2,
   "metadata": {},
   "outputs": [
    {
     "data": {
      "text/plain": [
       "True"
      ]
     },
     "execution_count": 2,
     "metadata": {},
     "output_type": "execute_result"
    }
   ],
   "source": [
    "# Load the environment variables from the .env file\n",
    "#by calling the load_dotenv function\n",
    "load_dotenv()"
   ]
  },
  {
   "cell_type": "markdown",
   "metadata": {},
   "source": [
    "## Part 1: Create a Financial Planner for Emergencies"
   ]
  },
  {
   "cell_type": "markdown",
   "metadata": {},
   "source": [
    "### Evaluate the Cryptocurrency Wallet by Using the Requests Library\n",
    "\n",
    "In this section, you’ll determine the current value of a member’s cryptocurrency wallet. You’ll collect the current prices for the Bitcoin and Ethereum cryptocurrencies by using the Python Requests library. For the prototype, you’ll assume that the member holds the 1.2 Bitcoins (BTC) and 5.3 Ethereum coins (ETH). To do all this, complete the following steps:\n",
    "\n",
    "1. Create a variable named `monthly_income`, and set its value to `12000`.\n",
    "\n",
    "2. Use the Requests library to get the current price (in US dollars) of Bitcoin (BTC) and Ethereum (ETH) by using the API endpoints that the starter code supplies.\n",
    "\n",
    "3. Navigate the JSON response object to access the current price of each coin, and store each in a variable.\n",
    "\n",
    "    > **Hint** Note the specific identifier for each cryptocurrency in the API JSON response. The Bitcoin identifier is `1`, and the Ethereum identifier is `1027`.\n",
    "\n",
    "4. Calculate the value, in US dollars, of the current amount of each cryptocurrency and of the entire cryptocurrency wallet.\n",
    "\n"
   ]
  },
  {
   "cell_type": "code",
   "execution_count": 3,
   "metadata": {},
   "outputs": [],
   "source": [
    "# The current number of coins for each cryptocurrency asset held in the portfolio.\n",
    "btc_coins = 1.2\n",
    "eth_coins = 5.3"
   ]
  },
  {
   "cell_type": "markdown",
   "metadata": {},
   "source": [
    "#### Step 1: Create a variable named `monthly_income`, and set its value to `12000`."
   ]
  },
  {
   "cell_type": "code",
   "execution_count": 4,
   "metadata": {},
   "outputs": [],
   "source": [
    "# The monthly amount for the member's household income\n",
    "monthly_income = 12000"
   ]
  },
  {
   "cell_type": "markdown",
   "metadata": {},
   "source": [
    "#### Review the endpoint URLs for the API calls to Free Crypto API in order to get the current pricing information for both BTC and ETH."
   ]
  },
  {
   "cell_type": "code",
   "execution_count": 5,
   "metadata": {},
   "outputs": [],
   "source": [
    "# The Free Crypto API Call endpoint URLs for the held cryptocurrency assets\n",
    "btc_url = \"https://api.alternative.me/v2/ticker/Bitcoin/?convert=USD\"\n",
    "eth_url = \"https://api.alternative.me/v2/ticker/Ethereum/?convert=USD\""
   ]
  },
  {
   "cell_type": "markdown",
   "metadata": {},
   "source": [
    "#### Step 2. Use the Requests library to get the current price (in US dollars) of Bitcoin (BTC) and Ethereum (ETH) by using the API endpoints that the starter code supplied."
   ]
  },
  {
   "cell_type": "code",
   "execution_count": 6,
   "metadata": {},
   "outputs": [
    {
     "name": "stdout",
     "output_type": "stream",
     "text": [
      "{\n",
      "    \"data\": {\n",
      "        \"1\": {\n",
      "            \"circulating_supply\": 18769881,\n",
      "            \"id\": 1,\n",
      "            \"last_updated\": 1627542289,\n",
      "            \"max_supply\": 21000000,\n",
      "            \"name\": \"Bitcoin\",\n",
      "            \"quotes\": {\n",
      "                \"USD\": {\n",
      "                    \"market_cap\": 751413876831,\n",
      "                    \"percent_change_1h\": -0.72472244072254,\n",
      "                    \"percent_change_24h\": 1.11267432428,\n",
      "                    \"percent_change_7d\": 23.5218860186679,\n",
      "                    \"percentage_change_1h\": -0.72472244072254,\n",
      "                    \"percentage_change_24h\": 1.11267432428,\n",
      "                    \"percentage_change_7d\": 23.5218860186679,\n",
      "                    \"price\": 40001.0,\n",
      "                    \"volume_24h\": 36515894370\n",
      "                }\n",
      "            },\n",
      "            \"rank\": 1,\n",
      "            \"symbol\": \"BTC\",\n",
      "            \"total_supply\": 18769881,\n",
      "            \"website_slug\": \"bitcoin\"\n",
      "        }\n",
      "    },\n",
      "    \"metadata\": {\n",
      "        \"error\": null,\n",
      "        \"num_cryptocurrencies\": 3105,\n",
      "        \"timestamp\": 1627542289\n",
      "    }\n",
      "}\n"
     ]
    }
   ],
   "source": [
    "# Using the Python requests library, make an API call to access the current price of BTC\n",
    "btc_response = requests.get(btc_url).json()\n",
    "\n",
    "# Use the json.dumps function to review the response data from the API call\n",
    "# Use the indent and sort_keys parameters to make the response object readable\n",
    "print(json.dumps(btc_response, indent=4, sort_keys=True))"
   ]
  },
  {
   "cell_type": "code",
   "execution_count": 7,
   "metadata": {},
   "outputs": [
    {
     "name": "stdout",
     "output_type": "stream",
     "text": [
      "{\n",
      "    \"data\": {\n",
      "        \"1027\": {\n",
      "            \"circulating_supply\": 116885129,\n",
      "            \"id\": 1027,\n",
      "            \"last_updated\": 1627542293,\n",
      "            \"max_supply\": 0,\n",
      "            \"name\": \"Ethereum\",\n",
      "            \"quotes\": {\n",
      "                \"USD\": {\n",
      "                    \"market_cap\": 268255425354,\n",
      "                    \"percent_change_1h\": -0.813975670913277,\n",
      "                    \"percent_change_24h\": 0.639567337453581,\n",
      "                    \"percent_change_7d\": 14.4895200520866,\n",
      "                    \"percentage_change_1h\": -0.813975670913277,\n",
      "                    \"percentage_change_24h\": 0.639567337453581,\n",
      "                    \"percentage_change_7d\": 14.4895200520866,\n",
      "                    \"price\": 2294.05,\n",
      "                    \"volume_24h\": 20162212293\n",
      "                }\n",
      "            },\n",
      "            \"rank\": 2,\n",
      "            \"symbol\": \"ETH\",\n",
      "            \"total_supply\": 116885129,\n",
      "            \"website_slug\": \"ethereum\"\n",
      "        }\n",
      "    },\n",
      "    \"metadata\": {\n",
      "        \"error\": null,\n",
      "        \"num_cryptocurrencies\": 3105,\n",
      "        \"timestamp\": 1627542293\n",
      "    }\n",
      "}\n"
     ]
    }
   ],
   "source": [
    "# Using the Python requests library, make an API call to access the current price ETH\n",
    "eth_response = requests.get(eth_url).json()\n",
    "\n",
    "# Use the json.dumps function to review the response data from the API call\n",
    "# Use the indent and sort_keys parameters to make the response object readable\n",
    "print(json.dumps(eth_response, indent=4, sort_keys=True))"
   ]
  },
  {
   "cell_type": "markdown",
   "metadata": {},
   "source": [
    "#### Step 3: Navigate the JSON response object to access the current price of each coin, and store each in a variable."
   ]
  },
  {
   "cell_type": "code",
   "execution_count": 8,
   "metadata": {},
   "outputs": [
    {
     "name": "stdout",
     "output_type": "stream",
     "text": [
      "The current BTC price is $40,001.00\n"
     ]
    }
   ],
   "source": [
    "# Navigate the BTC response object to access the current price of BTC\n",
    "btc_price = btc_response['data']['1']['quotes']['USD']['price']\n",
    "\n",
    "# Print the current price of BTC\n",
    "print(f\"The current BTC price is ${btc_price:,.2f}\")"
   ]
  },
  {
   "cell_type": "code",
   "execution_count": 9,
   "metadata": {},
   "outputs": [
    {
     "name": "stdout",
     "output_type": "stream",
     "text": [
      "The current ETH price is $2,294.05\n"
     ]
    }
   ],
   "source": [
    "# Navigate the ETH response object to access the current price of ETH\n",
    "eth_price = eth_response['data']['1027']['quotes']['USD']['price']\n",
    "\n",
    "# Print the current price of ETH\n",
    "print(f\"The current ETH price is ${eth_price:,.2f}\")"
   ]
  },
  {
   "cell_type": "markdown",
   "metadata": {},
   "source": [
    "### Step 4: Calculate the value, in US dollars, of the current amount of each cryptocurrency and of the entire cryptocurrency wallet."
   ]
  },
  {
   "cell_type": "code",
   "execution_count": 10,
   "metadata": {},
   "outputs": [
    {
     "name": "stdout",
     "output_type": "stream",
     "text": [
      "The current value of 1.2 BTC coins is $48,001.20\n"
     ]
    }
   ],
   "source": [
    "# Compute the current value of the BTC holding \n",
    "btc_value = btc_coins * btc_price\n",
    "\n",
    "# Print current value of your holding in BTC\n",
    "print(f\"The current value of {btc_coins} BTC coins is ${btc_value:,.2f}\")\n"
   ]
  },
  {
   "cell_type": "code",
   "execution_count": 11,
   "metadata": {},
   "outputs": [
    {
     "name": "stdout",
     "output_type": "stream",
     "text": [
      "The current value of 5.3 BTC coins is $12,158.47\n"
     ]
    }
   ],
   "source": [
    "# Compute the current value of the ETH holding \n",
    "eth_value = eth_coins * eth_price\n",
    "\n",
    "# Print current value of your holding in ETH\n",
    "print(f\"The current value of {eth_coins} BTC coins is ${eth_value:,.2f}\")\n"
   ]
  },
  {
   "cell_type": "code",
   "execution_count": 12,
   "metadata": {},
   "outputs": [
    {
     "name": "stdout",
     "output_type": "stream",
     "text": [
      "The current balance of the cryptocurrency wallet is $60,159.66\n"
     ]
    }
   ],
   "source": [
    "# Compute the total value of the cryptocurrency wallet\n",
    "# Add the value of the BTC holding to the value of the ETH holding\n",
    "total_crypto_wallet = btc_value + eth_value\n",
    "\n",
    "# Print current cryptocurrency wallet balance\n",
    "print(f\"The current balance of the cryptocurrency wallet is ${total_crypto_wallet:,.2f}\")\n"
   ]
  },
  {
   "cell_type": "markdown",
   "metadata": {},
   "source": [
    "### Evaluate the Stock and Bond Holdings by Using the Alpaca SDK\n",
    "\n",
    "In this section, you’ll determine the current value of a member’s stock and bond holdings. You’ll make an API call to Alpaca via the Alpaca SDK to get the current closing prices of the SPDR S&P 500 ETF Trust (ticker: SPY) and of the iShares Core US Aggregate Bond ETF (ticker: AGG). For the prototype, assume that the member holds 110 shares of SPY, which represents the stock portion of their portfolio, and 200 shares of AGG, which represents the bond portion. To do all this, complete the following steps:\n",
    "\n",
    "1. In the `Starter_Code` folder, create an environment file (`.env`) to store the values of your Alpaca API key and Alpaca secret key.\n",
    "\n",
    "2. Set the variables for the Alpaca API and secret keys. Using the Alpaca SDK, create the Alpaca `tradeapi.REST` object. In this object, include the parameters for the Alpaca API key, the secret key, and the version number.\n",
    "\n",
    "3. Set the following parameters for the Alpaca API call:\n",
    "\n",
    "    - `tickers`: Use the tickers for the member’s stock and bond holdings.\n",
    "\n",
    "    - `timeframe`: Use a time frame of one day.\n",
    "\n",
    "    - `start_date` and `end_date`: Use the same date for these parameters, and format them with the date of the previous weekday (or `2020-08-07`). This is because you want the one closing price for the most-recent trading day.\n",
    "\n",
    "4. Get the current closing prices for `SPY` and `AGG` by using the Alpaca `get_barset` function. Format the response as a Pandas DataFrame by including the `df` property at the end of the `get_barset` function.\n",
    "\n",
    "5. Navigating the Alpaca response DataFrame, select the `SPY` and `AGG` closing prices, and store them as variables.\n",
    "\n",
    "6. Calculate the value, in US dollars, of the current amount of shares in each of the stock and bond portions of the portfolio, and print the results.\n"
   ]
  },
  {
   "cell_type": "markdown",
   "metadata": {},
   "source": [
    "#### Review the total number of shares held in both (SPY) and (AGG)."
   ]
  },
  {
   "cell_type": "code",
   "execution_count": 13,
   "metadata": {},
   "outputs": [],
   "source": [
    "# Current amount of shares held in both the stock (SPY) and bond (AGG) portion of the portfolio.\n",
    "spy_shares = 110\n",
    "agg_shares = 200"
   ]
  },
  {
   "cell_type": "markdown",
   "metadata": {},
   "source": [
    "#### Step 1: In the `Starter_Code` folder, create an environment file (`.env`) to store the values of your Alpaca API key and Alpaca secret key."
   ]
  },
  {
   "cell_type": "markdown",
   "metadata": {},
   "source": [
    "#### Step 2: Set the variables for the Alpaca API and secret keys. Using the Alpaca SDK, create the Alpaca `tradeapi.REST` object. In this object, include the parameters for the Alpaca API key, the secret key, and the version number."
   ]
  },
  {
   "cell_type": "code",
   "execution_count": 14,
   "metadata": {},
   "outputs": [],
   "source": [
    "# Set the variables for the Alpaca API and secret keys\n",
    "alpaca_api_key = os.getenv(\"ALPACA_API_KEY\")\n",
    "alpaca_secret_key = os.getenv(\"ALPACA_SECRET_KEY\")\n",
    "\n",
    "# Create the Alpaca tradeapi.REST object\n",
    "alpaca = tradeapi.REST(\n",
    "                alpaca_api_key,\n",
    "                alpaca_secret_key,\n",
    "                api_version=\"v2\")"
   ]
  },
  {
   "cell_type": "markdown",
   "metadata": {},
   "source": [
    "#### Step 3: Set the following parameters for the Alpaca API call:\n",
    "\n",
    "- `tickers`: Use the tickers for the member’s stock and bond holdings.\n",
    "\n",
    "- `timeframe`: Use a time frame of one day.\n",
    "\n",
    "- `start_date` and `end_date`: Use the same date for these parameters, and format them with the date of the previous weekday (or `2020-08-07`). This is because you want the one closing price for the most-recent trading day.\n"
   ]
  },
  {
   "cell_type": "code",
   "execution_count": 15,
   "metadata": {},
   "outputs": [],
   "source": [
    "# Set the tickers for both the bond and stock portion of the portfolio\n",
    "tickers = [\"SPY\", \"AGG\"]\n",
    "\n",
    "# Set timeframe to 1D \n",
    "timeframe=\"1D\"\n",
    "\n",
    "# Format current date as ISO format\n",
    "# Set both the start and end date at the date of your prior weekday \n",
    "# This will give you the closing price of the previous trading day\n",
    "# Alternatively you can use a start and end date of 2020-08-07\n",
    "todays_date = str(datetime.datetime.now()).split()[0]\n",
    "one_day_ago = str(datetime.datetime.now() - datetime.timedelta(days=1)).split()[0]\n",
    "# YOUR CODE HERE\n",
    "start_date = pd.Timestamp(one_day_ago, tz='America/New_York').isoformat()\n",
    "end_date = start_date"
   ]
  },
  {
   "cell_type": "markdown",
   "metadata": {},
   "source": [
    "#### Step 4: Get the current closing prices for `SPY` and `AGG` by using the Alpaca `get_barset` function. Format the response as a Pandas DataFrame by including the `df` property at the end of the `get_barset` function."
   ]
  },
  {
   "cell_type": "code",
   "execution_count": 16,
   "metadata": {},
   "outputs": [
    {
     "data": {
      "text/html": [
       "<div>\n",
       "<style scoped>\n",
       "    .dataframe tbody tr th:only-of-type {\n",
       "        vertical-align: middle;\n",
       "    }\n",
       "\n",
       "    .dataframe tbody tr th {\n",
       "        vertical-align: top;\n",
       "    }\n",
       "\n",
       "    .dataframe thead tr th {\n",
       "        text-align: left;\n",
       "    }\n",
       "\n",
       "    .dataframe thead tr:last-of-type th {\n",
       "        text-align: right;\n",
       "    }\n",
       "</style>\n",
       "<table border=\"1\" class=\"dataframe\">\n",
       "  <thead>\n",
       "    <tr>\n",
       "      <th></th>\n",
       "      <th colspan=\"5\" halign=\"left\">AGG</th>\n",
       "      <th colspan=\"5\" halign=\"left\">SPY</th>\n",
       "    </tr>\n",
       "    <tr>\n",
       "      <th></th>\n",
       "      <th>open</th>\n",
       "      <th>high</th>\n",
       "      <th>low</th>\n",
       "      <th>close</th>\n",
       "      <th>volume</th>\n",
       "      <th>open</th>\n",
       "      <th>high</th>\n",
       "      <th>low</th>\n",
       "      <th>close</th>\n",
       "      <th>volume</th>\n",
       "    </tr>\n",
       "    <tr>\n",
       "      <th>time</th>\n",
       "      <th></th>\n",
       "      <th></th>\n",
       "      <th></th>\n",
       "      <th></th>\n",
       "      <th></th>\n",
       "      <th></th>\n",
       "      <th></th>\n",
       "      <th></th>\n",
       "      <th></th>\n",
       "      <th></th>\n",
       "    </tr>\n",
       "  </thead>\n",
       "  <tbody>\n",
       "    <tr>\n",
       "      <th>2021-07-28 00:00:00-04:00</th>\n",
       "      <td>116.24</td>\n",
       "      <td>116.49</td>\n",
       "      <td>116.14</td>\n",
       "      <td>116.48</td>\n",
       "      <td>5189696</td>\n",
       "      <td>439.68</td>\n",
       "      <td>440.3</td>\n",
       "      <td>437.31</td>\n",
       "      <td>438.84</td>\n",
       "      <td>47642330</td>\n",
       "    </tr>\n",
       "  </tbody>\n",
       "</table>\n",
       "</div>"
      ],
      "text/plain": [
       "                              AGG                                      SPY  \\\n",
       "                             open    high     low   close   volume    open   \n",
       "time                                                                         \n",
       "2021-07-28 00:00:00-04:00  116.24  116.49  116.14  116.48  5189696  439.68   \n",
       "\n",
       "                                                            \n",
       "                            high     low   close    volume  \n",
       "time                                                        \n",
       "2021-07-28 00:00:00-04:00  440.3  437.31  438.84  47642330  "
      ]
     },
     "execution_count": 16,
     "metadata": {},
     "output_type": "execute_result"
    }
   ],
   "source": [
    "# Use the Alpaca get_barset function to get current closing prices the portfolio\n",
    "# Be sure to set the `df` property after the function to format the response object as a DataFrame\n",
    "current_closing_prices_df = alpaca.get_barset(\n",
    "                                        tickers,\n",
    "                                        timeframe,\n",
    "                                        start=start_date,\n",
    "                                        end=end_date).df\n",
    "\n",
    "# Review the first 5 rows of the Alpaca DataFrame\n",
    "current_closing_prices_df.head()"
   ]
  },
  {
   "cell_type": "markdown",
   "metadata": {},
   "source": [
    "#### Step 5: Navigating the Alpaca response DataFrame, select the `SPY` and `AGG` closing prices, and store them as variables."
   ]
  },
  {
   "cell_type": "code",
   "execution_count": 17,
   "metadata": {},
   "outputs": [
    {
     "name": "stdout",
     "output_type": "stream",
     "text": [
      "The current closing price of AGG is $116.48\n"
     ]
    }
   ],
   "source": [
    "# Access the closing price for AGG from the Alpaca DataFrame\n",
    "# Converting the value to a floating point number\n",
    "agg_close_price = float(current_closing_prices_df['AGG']['close'])\n",
    "\n",
    "# Print the AGG closing price\n",
    "print(f\"The current closing price of AGG is ${agg_close_price:,.2f}\")"
   ]
  },
  {
   "cell_type": "code",
   "execution_count": 18,
   "metadata": {},
   "outputs": [
    {
     "name": "stdout",
     "output_type": "stream",
     "text": [
      "The current closing price of SPY is $438.84\n"
     ]
    }
   ],
   "source": [
    "# Access the closing price for SPY from the Alpaca DataFrame\n",
    "# Converting the value to a floating point number\n",
    "spy_close_price = float(current_closing_prices_df['SPY']['close'])\n",
    "\n",
    "# Print the SPY closing price\n",
    "print(f\"The current closing price of SPY is ${spy_close_price:,.2f}\")"
   ]
  },
  {
   "cell_type": "markdown",
   "metadata": {},
   "source": [
    "#### Step 6: Calculate the value, in US dollars, of the current amount of shares in each of the stock and bond portions of the portfolio, and print the results."
   ]
  },
  {
   "cell_type": "code",
   "execution_count": 19,
   "metadata": {},
   "outputs": [
    {
     "name": "stdout",
     "output_type": "stream",
     "text": [
      "The current value of 200 AGG shares is $23,296.00\n"
     ]
    }
   ],
   "source": [
    "# Calculate the current value of the bond portion of the portfolio\n",
    "agg_value = agg_close_price * agg_shares\n",
    "\n",
    "# Print the current value of the bond portfolio\n",
    "print(f\"The current value of {agg_shares} AGG shares is ${agg_value:,.2f}\")"
   ]
  },
  {
   "cell_type": "code",
   "execution_count": 20,
   "metadata": {},
   "outputs": [
    {
     "name": "stdout",
     "output_type": "stream",
     "text": [
      "The current value of 110 SPY shares is $48,272.40\n"
     ]
    }
   ],
   "source": [
    "# Calculate the current value of the stock portion of the portfolio\n",
    "spy_value = spy_close_price * spy_shares\n",
    "\n",
    "# Print the current value of the stock portfolio\n",
    "print(f\"The current value of {spy_shares} SPY shares is ${spy_value:,.2f}\")"
   ]
  },
  {
   "cell_type": "code",
   "execution_count": 21,
   "metadata": {},
   "outputs": [
    {
     "name": "stdout",
     "output_type": "stream",
     "text": [
      "The value of the stock and bond portion of the portfolio is $71,568.40\n"
     ]
    }
   ],
   "source": [
    "# Calculate the total value of the stock and bond portion of the portfolio\n",
    "total_stocks_bonds = agg_value + spy_value\n",
    "\n",
    "# Print the current balance of the stock and bond portion of the portfolio\n",
    "print(f\"The value of the stock and bond portion of the portfolio is ${total_stocks_bonds:,.2f}\")"
   ]
  },
  {
   "cell_type": "code",
   "execution_count": 22,
   "metadata": {},
   "outputs": [
    {
     "name": "stdout",
     "output_type": "stream",
     "text": [
      "Total value of the entire savings portfolio is $131,728.07\n"
     ]
    }
   ],
   "source": [
    "# Calculate the total value of the member's entire savings portfolio\n",
    "# Add the value of the cryptocurrency walled to the value of the total stocks and bonds\n",
    "total_portfolio = total_crypto_wallet + total_stocks_bonds\n",
    "\n",
    "# Print total value of entire savings portfolio\n",
    "print(f\"Total value of the entire savings portfolio is ${total_portfolio:,.2f}\")"
   ]
  },
  {
   "cell_type": "markdown",
   "metadata": {},
   "source": [
    "### Evaluate the Emergency Fund\n",
    "\n",
    "In this section, you’ll use the valuations for the cryptocurrency wallet and for the stock and bond portions of the portfolio to determine if the credit union member has enough savings to build an emergency fund into their financial plan. To do this, complete the following steps:\n",
    "\n",
    "1. Create a Python list named `savings_data` that has two elements. The first element contains the total value of the cryptocurrency wallet. The second element contains the total value of the stock and bond portions of the portfolio.\n",
    "\n",
    "2. Use the `savings_data` list to create a Pandas DataFrame named `savings_df`, and then display this DataFrame. The function to create the DataFrame should take the following three parameters:\n",
    "\n",
    "    - `savings_data`: Use the list that you just created.\n",
    "\n",
    "    - `columns`: Set this parameter equal to a Python list with a single value called `amount`.\n",
    "\n",
    "    - `index`: Set this parameter equal to a Python list with the values of `crypto` and `stock/bond`.\n",
    "\n",
    "3. Use the `savings_df` DataFrame to plot a pie chart that visualizes the composition of the member’s portfolio. The y-axis of the pie chart uses `amount`. Be sure to add a title.\n",
    "\n",
    "4. Using Python, determine if the current portfolio has enough to create an emergency fund as part of the member’s financial plan. Ideally, an emergency fund should equal to three times the member’s monthly income. To do this, implement the following steps:\n",
    "\n",
    "    1. Create a variable named `emergency_fund_value`, and set it equal to three times the value of the member’s `monthly_income` of $12000. (You set this earlier in Part 1).\n",
    "\n",
    "    2. Create a series of three if statements to determine if the member’s total portfolio is large enough to fund the emergency portfolio:\n",
    "\n",
    "        1. If the total portfolio value is greater than the emergency fund value, display a message congratulating the member for having enough money in this fund.\n",
    "\n",
    "        2. Else if the total portfolio value is equal to the emergency fund value, display a message congratulating the member on reaching this important financial goal.\n",
    "\n",
    "        3. Else the total portfolio is less than the emergency fund value, so display a message showing how many dollars away the member is from reaching the goal. (Subtract the total portfolio value from the emergency fund value.)\n"
   ]
  },
  {
   "cell_type": "markdown",
   "metadata": {},
   "source": [
    "#### Step 1: Create a Python list named `savings_data` that has two elements. The first element contains the total value of the cryptocurrency wallet. The second element contains the total value of the stock and bond portions of the portfolio."
   ]
  },
  {
   "cell_type": "code",
   "execution_count": 23,
   "metadata": {},
   "outputs": [
    {
     "name": "stdout",
     "output_type": "stream",
     "text": [
      "The savings data list is [60159.66499999999, 71568.4]\n"
     ]
    }
   ],
   "source": [
    "# Consolidate financial assets data into a Python list\n",
    "savings_data = [total_crypto_wallet, total_stocks_bonds]\n",
    "\n",
    "# Review the Python list savings_data\n",
    "print(f\"The savings data list is {savings_data}\")\n",
    "    "
   ]
  },
  {
   "cell_type": "markdown",
   "metadata": {},
   "source": [
    "#### Step 2: Use the `savings_data` list to create a Pandas DataFrame named `savings_df`, and then display this DataFrame. The function to create the DataFrame should take the following three parameters:\n",
    "\n",
    "- `savings_data`: Use the list that you just created.\n",
    "\n",
    "- `columns`: Set this parameter equal to a Python list with a single value called `amount`.\n",
    "\n",
    "- `index`: Set this parameter equal to a Python list with the values of `crypto` and `stock/bond`.\n"
   ]
  },
  {
   "cell_type": "code",
   "execution_count": 24,
   "metadata": {},
   "outputs": [
    {
     "data": {
      "text/html": [
       "<div>\n",
       "<style scoped>\n",
       "    .dataframe tbody tr th:only-of-type {\n",
       "        vertical-align: middle;\n",
       "    }\n",
       "\n",
       "    .dataframe tbody tr th {\n",
       "        vertical-align: top;\n",
       "    }\n",
       "\n",
       "    .dataframe thead th {\n",
       "        text-align: right;\n",
       "    }\n",
       "</style>\n",
       "<table border=\"1\" class=\"dataframe\">\n",
       "  <thead>\n",
       "    <tr style=\"text-align: right;\">\n",
       "      <th></th>\n",
       "      <th>amount</th>\n",
       "    </tr>\n",
       "  </thead>\n",
       "  <tbody>\n",
       "    <tr>\n",
       "      <th>crypto</th>\n",
       "      <td>60159.665</td>\n",
       "    </tr>\n",
       "    <tr>\n",
       "      <th>stock/bond</th>\n",
       "      <td>71568.400</td>\n",
       "    </tr>\n",
       "  </tbody>\n",
       "</table>\n",
       "</div>"
      ],
      "text/plain": [
       "               amount\n",
       "crypto      60159.665\n",
       "stock/bond  71568.400"
      ]
     },
     "metadata": {},
     "output_type": "display_data"
    }
   ],
   "source": [
    "# Create a Pandas DataFrame called savings_df \n",
    "savings_df = pd.DataFrame(savings_data,\n",
    "                          columns=[\"amount\"],\n",
    "                          index=[\"crypto\", \"stock/bond\"])\n",
    "\n",
    "# Display the savings_df DataFrame\n",
    "display(savings_df)\n"
   ]
  },
  {
   "cell_type": "markdown",
   "metadata": {},
   "source": [
    "#### Step 3: Use the `savings_df` DataFrame to plot a pie chart that visualizes the composition of the member’s portfolio. The y-axis of the pie chart uses `amount`. Be sure to add a title."
   ]
  },
  {
   "cell_type": "code",
   "execution_count": 25,
   "metadata": {},
   "outputs": [
    {
     "data": {
      "text/plain": [
       "<AxesSubplot:title={'center':'Pie chart of the total value of the Portfolio'}, ylabel='amount'>"
      ]
     },
     "execution_count": 25,
     "metadata": {},
     "output_type": "execute_result"
    },
    {
     "data": {
      "image/png": "[encoded data removed]",
      "text/plain": [
       "<Figure size 432x288 with 1 Axes>"
      ]
     },
     "metadata": {},
     "output_type": "display_data"
    }
   ],
   "source": [
    "# Plot the total value of the member's portfolio (crypto and stock/bond) in a pie chart\n",
    "savings_df.plot.pie(y='amount', title=\"Pie chart of the total value of the Portfolio\")\n"
   ]
  },
  {
   "cell_type": "markdown",
   "metadata": {},
   "source": [
    "#### Step 4: Using Python, determine if the current portfolio has enough to create an emergency fund as part of the member’s financial plan. Ideally, an emergency fund should equal to three times the member’s monthly income. To do this, implement the following steps:\n",
    "\n",
    "Step 1. Create a variable named `emergency_fund_value`, and set it equal to three times the value of the member’s `monthly_income` of 12000. (You set this earlier in Part 1).\n",
    "\n",
    "Step 2. Create a series of three if statements to determine if the member’s total portfolio is large enough to fund the emergency portfolio:\n",
    "\n",
    "* If the total portfolio value is greater than the emergency fund value, display a message congratulating the member for having enough money in this fund.\n",
    "\n",
    "* Else if the total portfolio value is equal to the emergency fund value, display a message congratulating the member on reaching this important financial goal.\n",
    "\n",
    "* Else the total portfolio is less than the emergency fund value, so display a message showing how many dollars away the member is from reaching the goal. (Subtract the total portfolio value from the emergency fund value.)\n"
   ]
  },
  {
   "cell_type": "markdown",
   "metadata": {},
   "source": [
    "##### Step 4-1: Create a variable named `emergency_fund_value`, and set it equal to three times the value of the member’s `monthly_income` of 12000. (You set this earlier in Part 1)."
   ]
  },
  {
   "cell_type": "code",
   "execution_count": 26,
   "metadata": {},
   "outputs": [],
   "source": [
    "# Create a variable named emergency_fund_value\n",
    "emergency_fund_value = 3 * monthly_income"
   ]
  },
  {
   "cell_type": "markdown",
   "metadata": {},
   "source": [
    "##### Step 4-2: Create a series of three if statements to determine if the member’s total portfolio is large enough to fund the emergency portfolio:\n",
    "\n",
    "* If the total portfolio value is greater than the emergency fund value, display a message congratulating the member for having enough money in this fund.\n",
    "\n",
    "* Else if the total portfolio value is equal to the emergency fund value, display a message congratulating the member on reaching this important financial goal.\n",
    "\n",
    "* Else the total portfolio is less than the emergency fund value, so display a message showing how many dollars away the member is from reaching the goal. (Subtract the total portfolio value from the emergency fund value.)"
   ]
  },
  {
   "cell_type": "code",
   "execution_count": 27,
   "metadata": {},
   "outputs": [
    {
     "name": "stdout",
     "output_type": "stream",
     "text": [
      "Congratulations! you have enough money $131,728.07 in this fund to meet emergency fund requirements of $36,000.00\n"
     ]
    }
   ],
   "source": [
    "# Evaluate the possibility of creating an emergency fund with 3 conditions:\n",
    "if total_portfolio > emergency_fund_value:\n",
    "    print(f\"Congratulations! you have enough money \"\n",
    "          f\"${total_portfolio:,.2f} in this fund to meet emergency fund \"\n",
    "          f\"requirements of ${emergency_fund_value:,.2f}\")\n",
    "elif total_portfolio == emergency_fund_value:\n",
    "    print(f\"Congratulations! you have reached an import finanical goal \"\n",
    "          f\"of having enough portfolio value to meet emergency fund \"\n",
    "          f\"requirements of ${emergency_fund_value:,.2f}\")\n",
    "else:\n",
    "    print(f\"Congratulations! you are \"\n",
    "          f\"${(total_portfolio - emergency_fund_value):,.2f} from meeting \"\n",
    "          f\"the emergency fund requirements\")"
   ]
  },
  {
   "cell_type": "markdown",
   "metadata": {},
   "source": [
    "## Part 2: Create a Financial Planner for Retirement"
   ]
  },
  {
   "cell_type": "markdown",
   "metadata": {},
   "source": [
    "### Create the Monte Carlo Simulation\n",
    "\n",
    "In this section, you’ll use the MCForecastTools library to create a Monte Carlo simulation for the member’s savings portfolio. To do this, complete the following steps:\n",
    "\n",
    "1. Make an API call via the Alpaca SDK to get 3 years of historical closing prices for a traditional 60/40 portfolio split: 60% stocks (SPY) and 40% bonds (AGG).\n",
    "\n",
    "2. Run a Monte Carlo simulation of 500 samples and 30 years for the 60/40 portfolio, and then plot the results.The following image shows the overlay line plot resulting from a simulation with these characteristics. However, because a random number generator is used to run each live Monte Carlo simulation, your image will differ slightly from this exact image:\n",
    "\n",
    "![A screenshot depicts the resulting plot.](Images/5-4-monte-carlo-line-plot.png)\n",
    "\n",
    "3. Plot the probability distribution of the Monte Carlo simulation. Plot the probability distribution of the Monte Carlo simulation. The following image shows the histogram plot resulting from a simulation with these characteristics. However, because a random number generator is used to run each live Monte Carlo simulation, your image will differ slightly from this exact image:\n",
    "\n",
    "![A screenshot depicts the histogram plot.](Images/5-4-monte-carlo-histogram.png)\n",
    "\n",
    "4. Generate the summary statistics for the Monte Carlo simulation.\n",
    "\n"
   ]
  },
  {
   "cell_type": "markdown",
   "metadata": {},
   "source": [
    "#### Step 1: Make an API call via the Alpaca SDK to get 3 years of historical closing prices for a traditional 60/40 portfolio split: 60% stocks (SPY) and 40% bonds (AGG)."
   ]
  },
  {
   "cell_type": "code",
   "execution_count": 28,
   "metadata": {},
   "outputs": [],
   "source": [
    "# Set start and end dates of 3 years back from your current date\n",
    "# Alternatively, you can use an end date of 2020-08-07 and work 3 years back from that date \n",
    "# YOUR CODE HERE\n",
    "todays_date = str(datetime.datetime.now()).split()[0]\n",
    "three_years_ago = str(datetime.datetime.now() - datetime.timedelta(days=3*365)).split()[0]\n",
    "start_date = pd.Timestamp(three_years_ago, tz=\"America/New_York\").isoformat()\n",
    "end_date = pd.Timestamp(todays_date, tz=\"America/New_York\").isoformat()\n",
    "\n",
    "# Set number of rows to 1000 to retrieve the maximum amount of rows\n",
    "limit_rows = 1000"
   ]
  },
  {
   "cell_type": "code",
   "execution_count": 29,
   "metadata": {},
   "outputs": [
    {
     "data": {
      "text/html": [
       "<div>\n",
       "<style scoped>\n",
       "    .dataframe tbody tr th:only-of-type {\n",
       "        vertical-align: middle;\n",
       "    }\n",
       "\n",
       "    .dataframe tbody tr th {\n",
       "        vertical-align: top;\n",
       "    }\n",
       "\n",
       "    .dataframe thead tr th {\n",
       "        text-align: left;\n",
       "    }\n",
       "\n",
       "    .dataframe thead tr:last-of-type th {\n",
       "        text-align: right;\n",
       "    }\n",
       "</style>\n",
       "<table border=\"1\" class=\"dataframe\">\n",
       "  <thead>\n",
       "    <tr>\n",
       "      <th></th>\n",
       "      <th colspan=\"5\" halign=\"left\">AGG</th>\n",
       "      <th colspan=\"5\" halign=\"left\">SPY</th>\n",
       "    </tr>\n",
       "    <tr>\n",
       "      <th></th>\n",
       "      <th>open</th>\n",
       "      <th>high</th>\n",
       "      <th>low</th>\n",
       "      <th>close</th>\n",
       "      <th>volume</th>\n",
       "      <th>open</th>\n",
       "      <th>high</th>\n",
       "      <th>low</th>\n",
       "      <th>close</th>\n",
       "      <th>volume</th>\n",
       "    </tr>\n",
       "    <tr>\n",
       "      <th>time</th>\n",
       "      <th></th>\n",
       "      <th></th>\n",
       "      <th></th>\n",
       "      <th></th>\n",
       "      <th></th>\n",
       "      <th></th>\n",
       "      <th></th>\n",
       "      <th></th>\n",
       "      <th></th>\n",
       "      <th></th>\n",
       "    </tr>\n",
       "  </thead>\n",
       "  <tbody>\n",
       "    <tr>\n",
       "      <th>2018-07-30 00:00:00-04:00</th>\n",
       "      <td>105.94</td>\n",
       "      <td>106.0500</td>\n",
       "      <td>105.910</td>\n",
       "      <td>105.95</td>\n",
       "      <td>2784448.0</td>\n",
       "      <td>281.49</td>\n",
       "      <td>281.69</td>\n",
       "      <td>279.3600</td>\n",
       "      <td>279.89</td>\n",
       "      <td>46935673</td>\n",
       "    </tr>\n",
       "    <tr>\n",
       "      <th>2018-07-31 00:00:00-04:00</th>\n",
       "      <td>106.11</td>\n",
       "      <td>106.1756</td>\n",
       "      <td>106.050</td>\n",
       "      <td>106.06</td>\n",
       "      <td>4704161.0</td>\n",
       "      <td>280.81</td>\n",
       "      <td>282.02</td>\n",
       "      <td>280.3800</td>\n",
       "      <td>281.22</td>\n",
       "      <td>48645613</td>\n",
       "    </tr>\n",
       "    <tr>\n",
       "      <th>2018-08-01 00:00:00-04:00</th>\n",
       "      <td>105.55</td>\n",
       "      <td>105.7600</td>\n",
       "      <td>105.512</td>\n",
       "      <td>105.69</td>\n",
       "      <td>3896190.0</td>\n",
       "      <td>281.56</td>\n",
       "      <td>282.13</td>\n",
       "      <td>280.1315</td>\n",
       "      <td>280.92</td>\n",
       "      <td>40627557</td>\n",
       "    </tr>\n",
       "    <tr>\n",
       "      <th>2018-08-02 00:00:00-04:00</th>\n",
       "      <td>105.76</td>\n",
       "      <td>105.7600</td>\n",
       "      <td>105.650</td>\n",
       "      <td>105.73</td>\n",
       "      <td>2989387.0</td>\n",
       "      <td>279.38</td>\n",
       "      <td>282.58</td>\n",
       "      <td>279.1600</td>\n",
       "      <td>282.34</td>\n",
       "      <td>42491022</td>\n",
       "    </tr>\n",
       "    <tr>\n",
       "      <th>2018-08-03 00:00:00-04:00</th>\n",
       "      <td>105.81</td>\n",
       "      <td>105.9799</td>\n",
       "      <td>105.810</td>\n",
       "      <td>105.93</td>\n",
       "      <td>2286629.0</td>\n",
       "      <td>282.53</td>\n",
       "      <td>283.65</td>\n",
       "      <td>282.3300</td>\n",
       "      <td>283.64</td>\n",
       "      <td>34485363</td>\n",
       "    </tr>\n",
       "  </tbody>\n",
       "</table>\n",
       "</div>"
      ],
      "text/plain": [
       "                              AGG                                        \\\n",
       "                             open      high      low   close     volume   \n",
       "time                                                                      \n",
       "2018-07-30 00:00:00-04:00  105.94  106.0500  105.910  105.95  2784448.0   \n",
       "2018-07-31 00:00:00-04:00  106.11  106.1756  106.050  106.06  4704161.0   \n",
       "2018-08-01 00:00:00-04:00  105.55  105.7600  105.512  105.69  3896190.0   \n",
       "2018-08-02 00:00:00-04:00  105.76  105.7600  105.650  105.73  2989387.0   \n",
       "2018-08-03 00:00:00-04:00  105.81  105.9799  105.810  105.93  2286629.0   \n",
       "\n",
       "                              SPY                                      \n",
       "                             open    high       low   close    volume  \n",
       "time                                                                   \n",
       "2018-07-30 00:00:00-04:00  281.49  281.69  279.3600  279.89  46935673  \n",
       "2018-07-31 00:00:00-04:00  280.81  282.02  280.3800  281.22  48645613  \n",
       "2018-08-01 00:00:00-04:00  281.56  282.13  280.1315  280.92  40627557  \n",
       "2018-08-02 00:00:00-04:00  279.38  282.58  279.1600  282.34  42491022  \n",
       "2018-08-03 00:00:00-04:00  282.53  283.65  282.3300  283.64  34485363  "
      ]
     },
     "metadata": {},
     "output_type": "display_data"
    },
    {
     "data": {
      "text/html": [
       "<div>\n",
       "<style scoped>\n",
       "    .dataframe tbody tr th:only-of-type {\n",
       "        vertical-align: middle;\n",
       "    }\n",
       "\n",
       "    .dataframe tbody tr th {\n",
       "        vertical-align: top;\n",
       "    }\n",
       "\n",
       "    .dataframe thead tr th {\n",
       "        text-align: left;\n",
       "    }\n",
       "\n",
       "    .dataframe thead tr:last-of-type th {\n",
       "        text-align: right;\n",
       "    }\n",
       "</style>\n",
       "<table border=\"1\" class=\"dataframe\">\n",
       "  <thead>\n",
       "    <tr>\n",
       "      <th></th>\n",
       "      <th colspan=\"5\" halign=\"left\">AGG</th>\n",
       "      <th colspan=\"5\" halign=\"left\">SPY</th>\n",
       "    </tr>\n",
       "    <tr>\n",
       "      <th></th>\n",
       "      <th>open</th>\n",
       "      <th>high</th>\n",
       "      <th>low</th>\n",
       "      <th>close</th>\n",
       "      <th>volume</th>\n",
       "      <th>open</th>\n",
       "      <th>high</th>\n",
       "      <th>low</th>\n",
       "      <th>close</th>\n",
       "      <th>volume</th>\n",
       "    </tr>\n",
       "    <tr>\n",
       "      <th>time</th>\n",
       "      <th></th>\n",
       "      <th></th>\n",
       "      <th></th>\n",
       "      <th></th>\n",
       "      <th></th>\n",
       "      <th></th>\n",
       "      <th></th>\n",
       "      <th></th>\n",
       "      <th></th>\n",
       "      <th></th>\n",
       "    </tr>\n",
       "  </thead>\n",
       "  <tbody>\n",
       "    <tr>\n",
       "      <th>2021-07-22 00:00:00-04:00</th>\n",
       "      <td>116.03</td>\n",
       "      <td>116.35</td>\n",
       "      <td>116.0300</td>\n",
       "      <td>116.29</td>\n",
       "      <td>6269656.0</td>\n",
       "      <td>434.74</td>\n",
       "      <td>435.72</td>\n",
       "      <td>433.69</td>\n",
       "      <td>435.50</td>\n",
       "      <td>41998182</td>\n",
       "    </tr>\n",
       "    <tr>\n",
       "      <th>2021-07-23 00:00:00-04:00</th>\n",
       "      <td>116.03</td>\n",
       "      <td>116.22</td>\n",
       "      <td>116.0300</td>\n",
       "      <td>116.21</td>\n",
       "      <td>4137100.0</td>\n",
       "      <td>437.53</td>\n",
       "      <td>440.30</td>\n",
       "      <td>436.79</td>\n",
       "      <td>439.90</td>\n",
       "      <td>53294703</td>\n",
       "    </tr>\n",
       "    <tr>\n",
       "      <th>2021-07-26 00:00:00-04:00</th>\n",
       "      <td>116.30</td>\n",
       "      <td>116.33</td>\n",
       "      <td>116.0850</td>\n",
       "      <td>116.11</td>\n",
       "      <td>7028009.0</td>\n",
       "      <td>439.31</td>\n",
       "      <td>441.03</td>\n",
       "      <td>439.26</td>\n",
       "      <td>440.99</td>\n",
       "      <td>40155852</td>\n",
       "    </tr>\n",
       "    <tr>\n",
       "      <th>2021-07-27 00:00:00-04:00</th>\n",
       "      <td>116.35</td>\n",
       "      <td>116.40</td>\n",
       "      <td>116.2727</td>\n",
       "      <td>116.39</td>\n",
       "      <td>4669859.0</td>\n",
       "      <td>439.91</td>\n",
       "      <td>439.94</td>\n",
       "      <td>435.99</td>\n",
       "      <td>439.00</td>\n",
       "      <td>61032234</td>\n",
       "    </tr>\n",
       "    <tr>\n",
       "      <th>2021-07-28 00:00:00-04:00</th>\n",
       "      <td>116.24</td>\n",
       "      <td>116.49</td>\n",
       "      <td>116.1400</td>\n",
       "      <td>116.48</td>\n",
       "      <td>5189696.0</td>\n",
       "      <td>439.68</td>\n",
       "      <td>440.30</td>\n",
       "      <td>437.31</td>\n",
       "      <td>438.84</td>\n",
       "      <td>47642330</td>\n",
       "    </tr>\n",
       "  </tbody>\n",
       "</table>\n",
       "</div>"
      ],
      "text/plain": [
       "                              AGG                                       \\\n",
       "                             open    high       low   close     volume   \n",
       "time                                                                     \n",
       "2021-07-22 00:00:00-04:00  116.03  116.35  116.0300  116.29  6269656.0   \n",
       "2021-07-23 00:00:00-04:00  116.03  116.22  116.0300  116.21  4137100.0   \n",
       "2021-07-26 00:00:00-04:00  116.30  116.33  116.0850  116.11  7028009.0   \n",
       "2021-07-27 00:00:00-04:00  116.35  116.40  116.2727  116.39  4669859.0   \n",
       "2021-07-28 00:00:00-04:00  116.24  116.49  116.1400  116.48  5189696.0   \n",
       "\n",
       "                              SPY                                    \n",
       "                             open    high     low   close    volume  \n",
       "time                                                                 \n",
       "2021-07-22 00:00:00-04:00  434.74  435.72  433.69  435.50  41998182  \n",
       "2021-07-23 00:00:00-04:00  437.53  440.30  436.79  439.90  53294703  \n",
       "2021-07-26 00:00:00-04:00  439.31  441.03  439.26  440.99  40155852  \n",
       "2021-07-27 00:00:00-04:00  439.91  439.94  435.99  439.00  61032234  \n",
       "2021-07-28 00:00:00-04:00  439.68  440.30  437.31  438.84  47642330  "
      ]
     },
     "metadata": {},
     "output_type": "display_data"
    }
   ],
   "source": [
    "# Use the Alpaca get_barset function to make the API call to get the 3 years worth of pricing data\n",
    "# The tickers and timeframe parameters should have been set in Part 1 of this activity \n",
    "# The start and end dates should be updated with the information set above\n",
    "# Remember to add the df property to the end of the call so the response is returned as a DataFrame\n",
    "daily_returns_spy_agg_df = alpaca.get_barset(\n",
    "                                    tickers,\n",
    "                                    timeframe,\n",
    "                                    start=start_date,\n",
    "                                    end=end_date,\n",
    "                                    limit=limit_rows).df\n",
    "\n",
    "\n",
    "# Display both the first and last five rows of the DataFrame\n",
    "display(daily_returns_spy_agg_df.head())\n",
    "display(daily_returns_spy_agg_df.tail())"
   ]
  },
  {
   "cell_type": "markdown",
   "metadata": {},
   "source": [
    "#### Step 2: Run a Monte Carlo simulation of 500 samples and 30 years for the 60/40 portfolio, and then plot the results."
   ]
  },
  {
   "cell_type": "code",
   "execution_count": 30,
   "metadata": {},
   "outputs": [
    {
     "data": {
      "text/html": [
       "<div>\n",
       "<style scoped>\n",
       "    .dataframe tbody tr th:only-of-type {\n",
       "        vertical-align: middle;\n",
       "    }\n",
       "\n",
       "    .dataframe tbody tr th {\n",
       "        vertical-align: top;\n",
       "    }\n",
       "\n",
       "    .dataframe thead tr th {\n",
       "        text-align: left;\n",
       "    }\n",
       "\n",
       "    .dataframe thead tr:last-of-type th {\n",
       "        text-align: right;\n",
       "    }\n",
       "</style>\n",
       "<table border=\"1\" class=\"dataframe\">\n",
       "  <thead>\n",
       "    <tr>\n",
       "      <th></th>\n",
       "      <th colspan=\"6\" halign=\"left\">AGG</th>\n",
       "      <th colspan=\"6\" halign=\"left\">SPY</th>\n",
       "    </tr>\n",
       "    <tr>\n",
       "      <th></th>\n",
       "      <th>open</th>\n",
       "      <th>high</th>\n",
       "      <th>low</th>\n",
       "      <th>close</th>\n",
       "      <th>volume</th>\n",
       "      <th>daily_return</th>\n",
       "      <th>open</th>\n",
       "      <th>high</th>\n",
       "      <th>low</th>\n",
       "      <th>close</th>\n",
       "      <th>volume</th>\n",
       "      <th>daily_return</th>\n",
       "    </tr>\n",
       "    <tr>\n",
       "      <th>time</th>\n",
       "      <th></th>\n",
       "      <th></th>\n",
       "      <th></th>\n",
       "      <th></th>\n",
       "      <th></th>\n",
       "      <th></th>\n",
       "      <th></th>\n",
       "      <th></th>\n",
       "      <th></th>\n",
       "      <th></th>\n",
       "      <th></th>\n",
       "      <th></th>\n",
       "    </tr>\n",
       "  </thead>\n",
       "  <tbody>\n",
       "    <tr>\n",
       "      <th>2018-07-30 00:00:00-04:00</th>\n",
       "      <td>105.94</td>\n",
       "      <td>106.0500</td>\n",
       "      <td>105.910</td>\n",
       "      <td>105.95</td>\n",
       "      <td>2784448.0</td>\n",
       "      <td>NaN</td>\n",
       "      <td>281.49</td>\n",
       "      <td>281.69</td>\n",
       "      <td>279.3600</td>\n",
       "      <td>279.89</td>\n",
       "      <td>46935673</td>\n",
       "      <td>NaN</td>\n",
       "    </tr>\n",
       "    <tr>\n",
       "      <th>2018-07-31 00:00:00-04:00</th>\n",
       "      <td>106.11</td>\n",
       "      <td>106.1756</td>\n",
       "      <td>106.050</td>\n",
       "      <td>106.06</td>\n",
       "      <td>4704161.0</td>\n",
       "      <td>0.001038</td>\n",
       "      <td>280.81</td>\n",
       "      <td>282.02</td>\n",
       "      <td>280.3800</td>\n",
       "      <td>281.22</td>\n",
       "      <td>48645613</td>\n",
       "      <td>0.004752</td>\n",
       "    </tr>\n",
       "    <tr>\n",
       "      <th>2018-08-01 00:00:00-04:00</th>\n",
       "      <td>105.55</td>\n",
       "      <td>105.7600</td>\n",
       "      <td>105.512</td>\n",
       "      <td>105.69</td>\n",
       "      <td>3896190.0</td>\n",
       "      <td>-0.003489</td>\n",
       "      <td>281.56</td>\n",
       "      <td>282.13</td>\n",
       "      <td>280.1315</td>\n",
       "      <td>280.92</td>\n",
       "      <td>40627557</td>\n",
       "      <td>-0.001067</td>\n",
       "    </tr>\n",
       "    <tr>\n",
       "      <th>2018-08-02 00:00:00-04:00</th>\n",
       "      <td>105.76</td>\n",
       "      <td>105.7600</td>\n",
       "      <td>105.650</td>\n",
       "      <td>105.73</td>\n",
       "      <td>2989387.0</td>\n",
       "      <td>0.000378</td>\n",
       "      <td>279.38</td>\n",
       "      <td>282.58</td>\n",
       "      <td>279.1600</td>\n",
       "      <td>282.34</td>\n",
       "      <td>42491022</td>\n",
       "      <td>0.005055</td>\n",
       "    </tr>\n",
       "    <tr>\n",
       "      <th>2018-08-03 00:00:00-04:00</th>\n",
       "      <td>105.81</td>\n",
       "      <td>105.9799</td>\n",
       "      <td>105.810</td>\n",
       "      <td>105.93</td>\n",
       "      <td>2286629.0</td>\n",
       "      <td>0.001892</td>\n",
       "      <td>282.53</td>\n",
       "      <td>283.65</td>\n",
       "      <td>282.3300</td>\n",
       "      <td>283.64</td>\n",
       "      <td>34485363</td>\n",
       "      <td>0.004604</td>\n",
       "    </tr>\n",
       "  </tbody>\n",
       "</table>\n",
       "</div>"
      ],
      "text/plain": [
       "                              AGG                                        \\\n",
       "                             open      high      low   close     volume   \n",
       "time                                                                      \n",
       "2018-07-30 00:00:00-04:00  105.94  106.0500  105.910  105.95  2784448.0   \n",
       "2018-07-31 00:00:00-04:00  106.11  106.1756  106.050  106.06  4704161.0   \n",
       "2018-08-01 00:00:00-04:00  105.55  105.7600  105.512  105.69  3896190.0   \n",
       "2018-08-02 00:00:00-04:00  105.76  105.7600  105.650  105.73  2989387.0   \n",
       "2018-08-03 00:00:00-04:00  105.81  105.9799  105.810  105.93  2286629.0   \n",
       "\n",
       "                                           SPY                            \\\n",
       "                          daily_return    open    high       low   close   \n",
       "time                                                                       \n",
       "2018-07-30 00:00:00-04:00          NaN  281.49  281.69  279.3600  279.89   \n",
       "2018-07-31 00:00:00-04:00     0.001038  280.81  282.02  280.3800  281.22   \n",
       "2018-08-01 00:00:00-04:00    -0.003489  281.56  282.13  280.1315  280.92   \n",
       "2018-08-02 00:00:00-04:00     0.000378  279.38  282.58  279.1600  282.34   \n",
       "2018-08-03 00:00:00-04:00     0.001892  282.53  283.65  282.3300  283.64   \n",
       "\n",
       "                                                  \n",
       "                             volume daily_return  \n",
       "time                                              \n",
       "2018-07-30 00:00:00-04:00  46935673          NaN  \n",
       "2018-07-31 00:00:00-04:00  48645613     0.004752  \n",
       "2018-08-01 00:00:00-04:00  40627557    -0.001067  \n",
       "2018-08-02 00:00:00-04:00  42491022     0.005055  \n",
       "2018-08-03 00:00:00-04:00  34485363     0.004604  "
      ]
     },
     "execution_count": 30,
     "metadata": {},
     "output_type": "execute_result"
    }
   ],
   "source": [
    "# Configure the Monte Carlo simulation to forecast 30 years cumulative returns\n",
    "# The weights should be split 40% to AGG and 60% to SPY.\n",
    "# Run 500 samples.\n",
    "mc_thirty_year_40_60 = MCSimulation(\n",
    "                        portfolio_data = daily_returns_spy_agg_df,\n",
    "                        weights = [.40, .60],\n",
    "                        num_simulation = 500,\n",
    "                        num_trading_days = 30 * 252)\n",
    "\n",
    "# Review the simulation input data\n",
    "mc_thirty_year_40_60.portfolio_data.head()\n"
   ]
  },
  {
   "cell_type": "code",
   "execution_count": 31,
   "metadata": {},
   "outputs": [
    {
     "name": "stdout",
     "output_type": "stream",
     "text": [
      "Running Monte Carlo simulation number 0.\n",
      "Running Monte Carlo simulation number 10.\n",
      "Running Monte Carlo simulation number 20.\n",
      "Running Monte Carlo simulation number 30.\n",
      "Running Monte Carlo simulation number 40.\n",
      "Running Monte Carlo simulation number 50.\n",
      "Running Monte Carlo simulation number 60.\n",
      "Running Monte Carlo simulation number 70.\n",
      "Running Monte Carlo simulation number 80.\n",
      "Running Monte Carlo simulation number 90.\n",
      "Running Monte Carlo simulation number 100.\n",
      "Running Monte Carlo simulation number 110.\n",
      "Running Monte Carlo simulation number 120.\n",
      "Running Monte Carlo simulation number 130.\n",
      "Running Monte Carlo simulation number 140.\n",
      "Running Monte Carlo simulation number 150.\n",
      "Running Monte Carlo simulation number 160.\n",
      "Running Monte Carlo simulation number 170.\n",
      "Running Monte Carlo simulation number 180.\n",
      "Running Monte Carlo simulation number 190.\n",
      "Running Monte Carlo simulation number 200.\n",
      "Running Monte Carlo simulation number 210.\n",
      "Running Monte Carlo simulation number 220.\n",
      "Running Monte Carlo simulation number 230.\n",
      "Running Monte Carlo simulation number 240.\n",
      "Running Monte Carlo simulation number 250.\n",
      "Running Monte Carlo simulation number 260.\n",
      "Running Monte Carlo simulation number 270.\n",
      "Running Monte Carlo simulation number 280.\n",
      "Running Monte Carlo simulation number 290.\n",
      "Running Monte Carlo simulation number 300.\n",
      "Running Monte Carlo simulation number 310.\n",
      "Running Monte Carlo simulation number 320.\n",
      "Running Monte Carlo simulation number 330.\n",
      "Running Monte Carlo simulation number 340.\n",
      "Running Monte Carlo simulation number 350.\n",
      "Running Monte Carlo simulation number 360.\n",
      "Running Monte Carlo simulation number 370.\n",
      "Running Monte Carlo simulation number 380.\n",
      "Running Monte Carlo simulation number 390.\n",
      "Running Monte Carlo simulation number 400.\n",
      "Running Monte Carlo simulation number 410.\n",
      "Running Monte Carlo simulation number 420.\n",
      "Running Monte Carlo simulation number 430.\n",
      "Running Monte Carlo simulation number 440.\n",
      "Running Monte Carlo simulation number 450.\n",
      "Running Monte Carlo simulation number 460.\n",
      "Running Monte Carlo simulation number 470.\n",
      "Running Monte Carlo simulation number 480.\n",
      "Running Monte Carlo simulation number 490.\n"
     ]
    },
    {
     "data": {
      "text/html": [
       "<div>\n",
       "<style scoped>\n",
       "    .dataframe tbody tr th:only-of-type {\n",
       "        vertical-align: middle;\n",
       "    }\n",
       "\n",
       "    .dataframe tbody tr th {\n",
       "        vertical-align: top;\n",
       "    }\n",
       "\n",
       "    .dataframe thead th {\n",
       "        text-align: right;\n",
       "    }\n",
       "</style>\n",
       "<table border=\"1\" class=\"dataframe\">\n",
       "  <thead>\n",
       "    <tr style=\"text-align: right;\">\n",
       "      <th></th>\n",
       "      <th>0</th>\n",
       "      <th>1</th>\n",
       "      <th>2</th>\n",
       "      <th>3</th>\n",
       "      <th>4</th>\n",
       "      <th>5</th>\n",
       "      <th>6</th>\n",
       "      <th>7</th>\n",
       "      <th>8</th>\n",
       "      <th>9</th>\n",
       "      <th>...</th>\n",
       "      <th>490</th>\n",
       "      <th>491</th>\n",
       "      <th>492</th>\n",
       "      <th>493</th>\n",
       "      <th>494</th>\n",
       "      <th>495</th>\n",
       "      <th>496</th>\n",
       "      <th>497</th>\n",
       "      <th>498</th>\n",
       "      <th>499</th>\n",
       "    </tr>\n",
       "  </thead>\n",
       "  <tbody>\n",
       "    <tr>\n",
       "      <th>0</th>\n",
       "      <td>1.000000</td>\n",
       "      <td>1.000000</td>\n",
       "      <td>1.000000</td>\n",
       "      <td>1.000000</td>\n",
       "      <td>1.000000</td>\n",
       "      <td>1.000000</td>\n",
       "      <td>1.000000</td>\n",
       "      <td>1.000000</td>\n",
       "      <td>1.000000</td>\n",
       "      <td>1.000000</td>\n",
       "      <td>...</td>\n",
       "      <td>1.000000</td>\n",
       "      <td>1.000000</td>\n",
       "      <td>1.000000</td>\n",
       "      <td>1.000000</td>\n",
       "      <td>1.000000</td>\n",
       "      <td>1.000000</td>\n",
       "      <td>1.000000</td>\n",
       "      <td>1.000000</td>\n",
       "      <td>1.000000</td>\n",
       "      <td>1.000000</td>\n",
       "    </tr>\n",
       "    <tr>\n",
       "      <th>1</th>\n",
       "      <td>1.000304</td>\n",
       "      <td>0.992983</td>\n",
       "      <td>0.996727</td>\n",
       "      <td>0.984858</td>\n",
       "      <td>0.997049</td>\n",
       "      <td>1.008956</td>\n",
       "      <td>0.998289</td>\n",
       "      <td>1.010071</td>\n",
       "      <td>1.001126</td>\n",
       "      <td>0.989148</td>\n",
       "      <td>...</td>\n",
       "      <td>1.001333</td>\n",
       "      <td>0.996430</td>\n",
       "      <td>1.010219</td>\n",
       "      <td>1.003868</td>\n",
       "      <td>0.988447</td>\n",
       "      <td>1.001786</td>\n",
       "      <td>0.993844</td>\n",
       "      <td>1.000008</td>\n",
       "      <td>0.992115</td>\n",
       "      <td>0.994471</td>\n",
       "    </tr>\n",
       "    <tr>\n",
       "      <th>2</th>\n",
       "      <td>1.002924</td>\n",
       "      <td>0.989140</td>\n",
       "      <td>0.996005</td>\n",
       "      <td>0.984087</td>\n",
       "      <td>1.003732</td>\n",
       "      <td>1.007992</td>\n",
       "      <td>0.998252</td>\n",
       "      <td>1.010314</td>\n",
       "      <td>0.991142</td>\n",
       "      <td>0.982891</td>\n",
       "      <td>...</td>\n",
       "      <td>1.000309</td>\n",
       "      <td>1.000838</td>\n",
       "      <td>1.024949</td>\n",
       "      <td>0.988396</td>\n",
       "      <td>0.994789</td>\n",
       "      <td>0.995541</td>\n",
       "      <td>0.996033</td>\n",
       "      <td>0.990635</td>\n",
       "      <td>0.981001</td>\n",
       "      <td>1.006553</td>\n",
       "    </tr>\n",
       "    <tr>\n",
       "      <th>3</th>\n",
       "      <td>1.007649</td>\n",
       "      <td>0.979925</td>\n",
       "      <td>0.997798</td>\n",
       "      <td>0.971750</td>\n",
       "      <td>1.011356</td>\n",
       "      <td>0.997920</td>\n",
       "      <td>0.992232</td>\n",
       "      <td>1.033518</td>\n",
       "      <td>0.988285</td>\n",
       "      <td>0.988105</td>\n",
       "      <td>...</td>\n",
       "      <td>0.997116</td>\n",
       "      <td>0.992976</td>\n",
       "      <td>1.021858</td>\n",
       "      <td>0.998523</td>\n",
       "      <td>0.988676</td>\n",
       "      <td>0.984596</td>\n",
       "      <td>1.003832</td>\n",
       "      <td>0.995584</td>\n",
       "      <td>0.969753</td>\n",
       "      <td>0.996796</td>\n",
       "    </tr>\n",
       "    <tr>\n",
       "      <th>4</th>\n",
       "      <td>1.007841</td>\n",
       "      <td>0.968071</td>\n",
       "      <td>0.997079</td>\n",
       "      <td>0.982186</td>\n",
       "      <td>1.018397</td>\n",
       "      <td>1.010848</td>\n",
       "      <td>0.977923</td>\n",
       "      <td>1.042948</td>\n",
       "      <td>0.977942</td>\n",
       "      <td>0.985625</td>\n",
       "      <td>...</td>\n",
       "      <td>0.995512</td>\n",
       "      <td>0.996636</td>\n",
       "      <td>1.025385</td>\n",
       "      <td>1.000175</td>\n",
       "      <td>0.986983</td>\n",
       "      <td>0.986279</td>\n",
       "      <td>1.006525</td>\n",
       "      <td>0.989487</td>\n",
       "      <td>0.961784</td>\n",
       "      <td>1.004166</td>\n",
       "    </tr>\n",
       "    <tr>\n",
       "      <th>...</th>\n",
       "      <td>...</td>\n",
       "      <td>...</td>\n",
       "      <td>...</td>\n",
       "      <td>...</td>\n",
       "      <td>...</td>\n",
       "      <td>...</td>\n",
       "      <td>...</td>\n",
       "      <td>...</td>\n",
       "      <td>...</td>\n",
       "      <td>...</td>\n",
       "      <td>...</td>\n",
       "      <td>...</td>\n",
       "      <td>...</td>\n",
       "      <td>...</td>\n",
       "      <td>...</td>\n",
       "      <td>...</td>\n",
       "      <td>...</td>\n",
       "      <td>...</td>\n",
       "      <td>...</td>\n",
       "      <td>...</td>\n",
       "      <td>...</td>\n",
       "    </tr>\n",
       "    <tr>\n",
       "      <th>7556</th>\n",
       "      <td>13.635342</td>\n",
       "      <td>31.753432</td>\n",
       "      <td>47.853526</td>\n",
       "      <td>8.054983</td>\n",
       "      <td>20.261457</td>\n",
       "      <td>57.189838</td>\n",
       "      <td>56.709856</td>\n",
       "      <td>34.663905</td>\n",
       "      <td>22.059815</td>\n",
       "      <td>57.223790</td>\n",
       "      <td>...</td>\n",
       "      <td>21.923419</td>\n",
       "      <td>92.817871</td>\n",
       "      <td>51.921712</td>\n",
       "      <td>71.141640</td>\n",
       "      <td>12.015306</td>\n",
       "      <td>17.645912</td>\n",
       "      <td>20.137078</td>\n",
       "      <td>10.173409</td>\n",
       "      <td>27.075251</td>\n",
       "      <td>47.095762</td>\n",
       "    </tr>\n",
       "    <tr>\n",
       "      <th>7557</th>\n",
       "      <td>13.405784</td>\n",
       "      <td>31.623205</td>\n",
       "      <td>48.491232</td>\n",
       "      <td>7.948888</td>\n",
       "      <td>20.420914</td>\n",
       "      <td>56.837565</td>\n",
       "      <td>56.560765</td>\n",
       "      <td>34.651090</td>\n",
       "      <td>22.100584</td>\n",
       "      <td>57.727988</td>\n",
       "      <td>...</td>\n",
       "      <td>22.040737</td>\n",
       "      <td>91.859213</td>\n",
       "      <td>51.704345</td>\n",
       "      <td>71.917455</td>\n",
       "      <td>12.076398</td>\n",
       "      <td>17.495939</td>\n",
       "      <td>20.239214</td>\n",
       "      <td>10.167370</td>\n",
       "      <td>27.441323</td>\n",
       "      <td>47.071884</td>\n",
       "    </tr>\n",
       "    <tr>\n",
       "      <th>7558</th>\n",
       "      <td>13.431302</td>\n",
       "      <td>31.421149</td>\n",
       "      <td>48.331196</td>\n",
       "      <td>7.978570</td>\n",
       "      <td>20.718473</td>\n",
       "      <td>55.664763</td>\n",
       "      <td>56.710092</td>\n",
       "      <td>34.355166</td>\n",
       "      <td>22.027539</td>\n",
       "      <td>57.827771</td>\n",
       "      <td>...</td>\n",
       "      <td>22.179358</td>\n",
       "      <td>92.659340</td>\n",
       "      <td>51.299545</td>\n",
       "      <td>72.053693</td>\n",
       "      <td>12.292997</td>\n",
       "      <td>17.278693</td>\n",
       "      <td>20.037471</td>\n",
       "      <td>10.333978</td>\n",
       "      <td>27.574317</td>\n",
       "      <td>47.049225</td>\n",
       "    </tr>\n",
       "    <tr>\n",
       "      <th>7559</th>\n",
       "      <td>13.564069</td>\n",
       "      <td>30.821006</td>\n",
       "      <td>47.612766</td>\n",
       "      <td>7.981269</td>\n",
       "      <td>20.672266</td>\n",
       "      <td>55.849978</td>\n",
       "      <td>56.410671</td>\n",
       "      <td>34.497111</td>\n",
       "      <td>22.343370</td>\n",
       "      <td>57.973009</td>\n",
       "      <td>...</td>\n",
       "      <td>22.292457</td>\n",
       "      <td>93.436956</td>\n",
       "      <td>50.846412</td>\n",
       "      <td>71.809779</td>\n",
       "      <td>12.155665</td>\n",
       "      <td>17.440630</td>\n",
       "      <td>20.087379</td>\n",
       "      <td>10.227038</td>\n",
       "      <td>27.588707</td>\n",
       "      <td>46.240163</td>\n",
       "    </tr>\n",
       "    <tr>\n",
       "      <th>7560</th>\n",
       "      <td>13.525295</td>\n",
       "      <td>30.919306</td>\n",
       "      <td>47.561238</td>\n",
       "      <td>7.963866</td>\n",
       "      <td>20.648402</td>\n",
       "      <td>56.234952</td>\n",
       "      <td>56.211064</td>\n",
       "      <td>34.725828</td>\n",
       "      <td>21.873411</td>\n",
       "      <td>58.214992</td>\n",
       "      <td>...</td>\n",
       "      <td>22.211842</td>\n",
       "      <td>93.828052</td>\n",
       "      <td>50.200540</td>\n",
       "      <td>72.391537</td>\n",
       "      <td>12.275244</td>\n",
       "      <td>17.255805</td>\n",
       "      <td>20.119370</td>\n",
       "      <td>10.287567</td>\n",
       "      <td>27.427394</td>\n",
       "      <td>46.888140</td>\n",
       "    </tr>\n",
       "  </tbody>\n",
       "</table>\n",
       "<p>7561 rows × 500 columns</p>\n",
       "</div>"
      ],
      "text/plain": [
       "            0          1          2         3          4          5    \\\n",
       "0      1.000000   1.000000   1.000000  1.000000   1.000000   1.000000   \n",
       "1      1.000304   0.992983   0.996727  0.984858   0.997049   1.008956   \n",
       "2      1.002924   0.989140   0.996005  0.984087   1.003732   1.007992   \n",
       "3      1.007649   0.979925   0.997798  0.971750   1.011356   0.997920   \n",
       "4      1.007841   0.968071   0.997079  0.982186   1.018397   1.010848   \n",
       "...         ...        ...        ...       ...        ...        ...   \n",
       "7556  13.635342  31.753432  47.853526  8.054983  20.261457  57.189838   \n",
       "7557  13.405784  31.623205  48.491232  7.948888  20.420914  56.837565   \n",
       "7558  13.431302  31.421149  48.331196  7.978570  20.718473  55.664763   \n",
       "7559  13.564069  30.821006  47.612766  7.981269  20.672266  55.849978   \n",
       "7560  13.525295  30.919306  47.561238  7.963866  20.648402  56.234952   \n",
       "\n",
       "            6          7          8          9    ...        490        491  \\\n",
       "0      1.000000   1.000000   1.000000   1.000000  ...   1.000000   1.000000   \n",
       "1      0.998289   1.010071   1.001126   0.989148  ...   1.001333   0.996430   \n",
       "2      0.998252   1.010314   0.991142   0.982891  ...   1.000309   1.000838   \n",
       "3      0.992232   1.033518   0.988285   0.988105  ...   0.997116   0.992976   \n",
       "4      0.977923   1.042948   0.977942   0.985625  ...   0.995512   0.996636   \n",
       "...         ...        ...        ...        ...  ...        ...        ...   \n",
       "7556  56.709856  34.663905  22.059815  57.223790  ...  21.923419  92.817871   \n",
       "7557  56.560765  34.651090  22.100584  57.727988  ...  22.040737  91.859213   \n",
       "7558  56.710092  34.355166  22.027539  57.827771  ...  22.179358  92.659340   \n",
       "7559  56.410671  34.497111  22.343370  57.973009  ...  22.292457  93.436956   \n",
       "7560  56.211064  34.725828  21.873411  58.214992  ...  22.211842  93.828052   \n",
       "\n",
       "            492        493        494        495        496        497  \\\n",
       "0      1.000000   1.000000   1.000000   1.000000   1.000000   1.000000   \n",
       "1      1.010219   1.003868   0.988447   1.001786   0.993844   1.000008   \n",
       "2      1.024949   0.988396   0.994789   0.995541   0.996033   0.990635   \n",
       "3      1.021858   0.998523   0.988676   0.984596   1.003832   0.995584   \n",
       "4      1.025385   1.000175   0.986983   0.986279   1.006525   0.989487   \n",
       "...         ...        ...        ...        ...        ...        ...   \n",
       "7556  51.921712  71.141640  12.015306  17.645912  20.137078  10.173409   \n",
       "7557  51.704345  71.917455  12.076398  17.495939  20.239214  10.167370   \n",
       "7558  51.299545  72.053693  12.292997  17.278693  20.037471  10.333978   \n",
       "7559  50.846412  71.809779  12.155665  17.440630  20.087379  10.227038   \n",
       "7560  50.200540  72.391537  12.275244  17.255805  20.119370  10.287567   \n",
       "\n",
       "            498        499  \n",
       "0      1.000000   1.000000  \n",
       "1      0.992115   0.994471  \n",
       "2      0.981001   1.006553  \n",
       "3      0.969753   0.996796  \n",
       "4      0.961784   1.004166  \n",
       "...         ...        ...  \n",
       "7556  27.075251  47.095762  \n",
       "7557  27.441323  47.071884  \n",
       "7558  27.574317  47.049225  \n",
       "7559  27.588707  46.240163  \n",
       "7560  27.427394  46.888140  \n",
       "\n",
       "[7561 rows x 500 columns]"
      ]
     },
     "execution_count": 31,
     "metadata": {},
     "output_type": "execute_result"
    }
   ],
   "source": [
    "# Run the Monte Carlo simulation to forecast 30 years cumulative returns\n",
    "mc_thirty_year_40_60.calc_cumulative_return()"
   ]
  },
  {
   "cell_type": "code",
   "execution_count": 32,
   "metadata": {},
   "outputs": [
    {
     "data": {
      "image/png": "[encoded data removed]",
      "text/plain": [
       "<Figure size 432x288 with 1 Axes>"
      ]
     },
     "metadata": {
      "needs_background": "light"
     },
     "output_type": "display_data"
    }
   ],
   "source": [
    "# Visualize the 30-year Monte Carlo simulation by creating an\n",
    "# overlay line plot\n",
    "mc_thirty_year_40_60_sim_line_plot = mc_thirty_year_40_60.plot_simulation()\n"
   ]
  },
  {
   "cell_type": "markdown",
   "metadata": {},
   "source": [
    "#### Step 3: Plot the probability distribution of the Monte Carlo simulation."
   ]
  },
  {
   "cell_type": "code",
   "execution_count": 33,
   "metadata": {},
   "outputs": [
    {
     "data": {
      "image/png": "[encoded data removed]",
      "text/plain": [
       "<Figure size 432x288 with 1 Axes>"
      ]
     },
     "metadata": {
      "needs_background": "light"
     },
     "output_type": "display_data"
    }
   ],
   "source": [
    "# Visualize the probability distribution of the 30-year Monte Carlo simulation \n",
    "# by plotting a histogram\n",
    "mc_thirty_year_40_60_sim_dist_plot = mc_thirty_year_40_60.plot_distribution()\n"
   ]
  },
  {
   "cell_type": "markdown",
   "metadata": {},
   "source": [
    "#### Step 4: Generate the summary statistics for the Monte Carlo simulation."
   ]
  },
  {
   "cell_type": "code",
   "execution_count": 34,
   "metadata": {},
   "outputs": [
    {
     "name": "stdout",
     "output_type": "stream",
     "text": [
      "count           500.000000\n",
      "mean             35.634924\n",
      "std              28.694417\n",
      "min               2.601558\n",
      "25%              15.910730\n",
      "50%              27.491173\n",
      "75%              49.242066\n",
      "max             261.682203\n",
      "95% CI Lower      5.954517\n",
      "95% CI Upper    106.788268\n",
      "Name: 7560, dtype: float64\n"
     ]
    }
   ],
   "source": [
    "# Generate summary statistics from the 30-year Monte Carlo simulation results\n",
    "# Save the results as a variable\n",
    "mc_thirty_year_40_60_summary_statistics = mc_thirty_year_40_60.summarize_cumulative_return()\n",
    "\n",
    "\n",
    "# Review the 30-year Monte Carlo summary statistics\n",
    "print(mc_thirty_year_40_60_summary_statistics)"
   ]
  },
  {
   "cell_type": "markdown",
   "metadata": {},
   "source": [
    "### Analyze the Retirement Portfolio Forecasts\n",
    "\n",
    "Using the current value of only the stock and bond portion of the member's portfolio and the summary statistics that you generated from the Monte Carlo simulation, answer the following question in your Jupyter notebook:\n",
    "\n",
    "-  What are the lower and upper bounds for the expected value of the portfolio with a 95% confidence interval?\n"
   ]
  },
  {
   "cell_type": "code",
   "execution_count": 35,
   "metadata": {},
   "outputs": [
    {
     "name": "stdout",
     "output_type": "stream",
     "text": [
      "The value of the stock and bond portion of the portfolio is $71,568.40\n"
     ]
    }
   ],
   "source": [
    "# Print the current balance of the stock and bond portion of the members portfolio\n",
    "print(f\"The value of the stock and bond portion of the portfolio is ${total_stocks_bonds:,.2f}\")"
   ]
  },
  {
   "cell_type": "code",
   "execution_count": 46,
   "metadata": {},
   "outputs": [
    {
     "name": "stdout",
     "output_type": "stream",
     "text": [
      "There is a 95% chance that an initial investment of $71,568.40 in the portfolio over the next 30 year will end within in the range of $426,155.24 and $7,642,665.48.\n"
     ]
    }
   ],
   "source": [
    "# Use the lower and upper `95%` confidence intervals to calculate the range of the possible outcomes for the current stock/bond portfolio\n",
    "ci_lower_thirty_cumulative_return = round(\n",
    "                mc_thirty_year_40_60_summary_statistics[8] * total_stocks_bonds, 2)\n",
    "ci_upper_thirty_cumulative_return = round(\n",
    "                mc_thirty_year_40_60_summary_statistics[9] * total_stocks_bonds, 2)\n",
    "\n",
    "# Print the result of your calculations\n",
    "print(f\"There is a 95% chance that an initial investment of \"\n",
    "      f\"${total_stocks_bonds:,.2f} in the portfolio\"\n",
    "      f\" over the next 30 year will end within in the range of\"\n",
    "      f\" ${ci_lower_thirty_cumulative_return:,.2f} and \"\n",
    "      f\"${ci_upper_thirty_cumulative_return:,.2f}.\")"
   ]
  },
  {
   "cell_type": "markdown",
   "metadata": {},
   "source": [
    "### Forecast Cumulative Returns in 10 Years\n",
    "\n",
    "The CTO of the credit union is impressed with your work on these planning tools but wonders if 30 years is a long time to wait until retirement. So, your next task is to adjust the retirement portfolio and run a new Monte Carlo simulation to find out if the changes will allow members to retire earlier.\n",
    "\n",
    "For this new Monte Carlo simulation, do the following: \n",
    "\n",
    "- Forecast the cumulative returns for 10 years from now. Because of the shortened investment horizon (30 years to 10 years), the portfolio needs to invest more heavily in the riskier asset&mdash;that is, stock&mdash;to help accumulate wealth for retirement. \n",
    "\n",
    "- Adjust the weights of the retirement portfolio so that the composition for the Monte Carlo simulation consists of 20% bonds and 80% stocks. \n",
    "\n",
    "- Run the simulation over 500 samples, and use the same data that the API call to Alpaca generated.\n",
    "\n",
    "- Based on the new Monte Carlo simulation, answer the following questions in your Jupyter notebook:\n",
    "\n",
    "    - Using the current value of only the stock and bond portion of the member's portfolio and the summary statistics that you generated from the new Monte Carlo simulation, what are the lower and upper bounds for the expected value of the portfolio (with the new weights) with a 95% confidence interval?\n",
    "\n",
    "    - Will weighting the portfolio more heavily toward stocks allow the credit union members to retire after only 10 years?\n"
   ]
  },
  {
   "cell_type": "code",
   "execution_count": 37,
   "metadata": {},
   "outputs": [
    {
     "data": {
      "text/html": [
       "<div>\n",
       "<style scoped>\n",
       "    .dataframe tbody tr th:only-of-type {\n",
       "        vertical-align: middle;\n",
       "    }\n",
       "\n",
       "    .dataframe tbody tr th {\n",
       "        vertical-align: top;\n",
       "    }\n",
       "\n",
       "    .dataframe thead tr th {\n",
       "        text-align: left;\n",
       "    }\n",
       "\n",
       "    .dataframe thead tr:last-of-type th {\n",
       "        text-align: right;\n",
       "    }\n",
       "</style>\n",
       "<table border=\"1\" class=\"dataframe\">\n",
       "  <thead>\n",
       "    <tr>\n",
       "      <th></th>\n",
       "      <th colspan=\"6\" halign=\"left\">AGG</th>\n",
       "      <th colspan=\"6\" halign=\"left\">SPY</th>\n",
       "    </tr>\n",
       "    <tr>\n",
       "      <th></th>\n",
       "      <th>open</th>\n",
       "      <th>high</th>\n",
       "      <th>low</th>\n",
       "      <th>close</th>\n",
       "      <th>volume</th>\n",
       "      <th>daily_return</th>\n",
       "      <th>open</th>\n",
       "      <th>high</th>\n",
       "      <th>low</th>\n",
       "      <th>close</th>\n",
       "      <th>volume</th>\n",
       "      <th>daily_return</th>\n",
       "    </tr>\n",
       "    <tr>\n",
       "      <th>time</th>\n",
       "      <th></th>\n",
       "      <th></th>\n",
       "      <th></th>\n",
       "      <th></th>\n",
       "      <th></th>\n",
       "      <th></th>\n",
       "      <th></th>\n",
       "      <th></th>\n",
       "      <th></th>\n",
       "      <th></th>\n",
       "      <th></th>\n",
       "      <th></th>\n",
       "    </tr>\n",
       "  </thead>\n",
       "  <tbody>\n",
       "    <tr>\n",
       "      <th>2018-07-30 00:00:00-04:00</th>\n",
       "      <td>105.94</td>\n",
       "      <td>106.0500</td>\n",
       "      <td>105.910</td>\n",
       "      <td>105.95</td>\n",
       "      <td>2784448.0</td>\n",
       "      <td>NaN</td>\n",
       "      <td>281.49</td>\n",
       "      <td>281.69</td>\n",
       "      <td>279.3600</td>\n",
       "      <td>279.89</td>\n",
       "      <td>46935673</td>\n",
       "      <td>NaN</td>\n",
       "    </tr>\n",
       "    <tr>\n",
       "      <th>2018-07-31 00:00:00-04:00</th>\n",
       "      <td>106.11</td>\n",
       "      <td>106.1756</td>\n",
       "      <td>106.050</td>\n",
       "      <td>106.06</td>\n",
       "      <td>4704161.0</td>\n",
       "      <td>0.001038</td>\n",
       "      <td>280.81</td>\n",
       "      <td>282.02</td>\n",
       "      <td>280.3800</td>\n",
       "      <td>281.22</td>\n",
       "      <td>48645613</td>\n",
       "      <td>0.004752</td>\n",
       "    </tr>\n",
       "    <tr>\n",
       "      <th>2018-08-01 00:00:00-04:00</th>\n",
       "      <td>105.55</td>\n",
       "      <td>105.7600</td>\n",
       "      <td>105.512</td>\n",
       "      <td>105.69</td>\n",
       "      <td>3896190.0</td>\n",
       "      <td>-0.003489</td>\n",
       "      <td>281.56</td>\n",
       "      <td>282.13</td>\n",
       "      <td>280.1315</td>\n",
       "      <td>280.92</td>\n",
       "      <td>40627557</td>\n",
       "      <td>-0.001067</td>\n",
       "    </tr>\n",
       "    <tr>\n",
       "      <th>2018-08-02 00:00:00-04:00</th>\n",
       "      <td>105.76</td>\n",
       "      <td>105.7600</td>\n",
       "      <td>105.650</td>\n",
       "      <td>105.73</td>\n",
       "      <td>2989387.0</td>\n",
       "      <td>0.000378</td>\n",
       "      <td>279.38</td>\n",
       "      <td>282.58</td>\n",
       "      <td>279.1600</td>\n",
       "      <td>282.34</td>\n",
       "      <td>42491022</td>\n",
       "      <td>0.005055</td>\n",
       "    </tr>\n",
       "    <tr>\n",
       "      <th>2018-08-03 00:00:00-04:00</th>\n",
       "      <td>105.81</td>\n",
       "      <td>105.9799</td>\n",
       "      <td>105.810</td>\n",
       "      <td>105.93</td>\n",
       "      <td>2286629.0</td>\n",
       "      <td>0.001892</td>\n",
       "      <td>282.53</td>\n",
       "      <td>283.65</td>\n",
       "      <td>282.3300</td>\n",
       "      <td>283.64</td>\n",
       "      <td>34485363</td>\n",
       "      <td>0.004604</td>\n",
       "    </tr>\n",
       "  </tbody>\n",
       "</table>\n",
       "</div>"
      ],
      "text/plain": [
       "                              AGG                                        \\\n",
       "                             open      high      low   close     volume   \n",
       "time                                                                      \n",
       "2018-07-30 00:00:00-04:00  105.94  106.0500  105.910  105.95  2784448.0   \n",
       "2018-07-31 00:00:00-04:00  106.11  106.1756  106.050  106.06  4704161.0   \n",
       "2018-08-01 00:00:00-04:00  105.55  105.7600  105.512  105.69  3896190.0   \n",
       "2018-08-02 00:00:00-04:00  105.76  105.7600  105.650  105.73  2989387.0   \n",
       "2018-08-03 00:00:00-04:00  105.81  105.9799  105.810  105.93  2286629.0   \n",
       "\n",
       "                                           SPY                            \\\n",
       "                          daily_return    open    high       low   close   \n",
       "time                                                                       \n",
       "2018-07-30 00:00:00-04:00          NaN  281.49  281.69  279.3600  279.89   \n",
       "2018-07-31 00:00:00-04:00     0.001038  280.81  282.02  280.3800  281.22   \n",
       "2018-08-01 00:00:00-04:00    -0.003489  281.56  282.13  280.1315  280.92   \n",
       "2018-08-02 00:00:00-04:00     0.000378  279.38  282.58  279.1600  282.34   \n",
       "2018-08-03 00:00:00-04:00     0.001892  282.53  283.65  282.3300  283.64   \n",
       "\n",
       "                                                  \n",
       "                             volume daily_return  \n",
       "time                                              \n",
       "2018-07-30 00:00:00-04:00  46935673          NaN  \n",
       "2018-07-31 00:00:00-04:00  48645613     0.004752  \n",
       "2018-08-01 00:00:00-04:00  40627557    -0.001067  \n",
       "2018-08-02 00:00:00-04:00  42491022     0.005055  \n",
       "2018-08-03 00:00:00-04:00  34485363     0.004604  "
      ]
     },
     "execution_count": 37,
     "metadata": {},
     "output_type": "execute_result"
    }
   ],
   "source": [
    "# Configure a Monte Carlo simulation to forecast 10 years cumulative returns\n",
    "# The weights should be split 20% to AGG and 80% to SPY.\n",
    "# Run 500 samples.\n",
    "mc_ten_year_20_80 = MCSimulation(\n",
    "                        portfolio_data = daily_returns_spy_agg_df,\n",
    "                        weights = [.20, .80],\n",
    "                        num_simulation = 500,\n",
    "                        num_trading_days = 10 * 252)\n",
    "\n",
    "# Review the simulation input data\n",
    "mc_ten_year_20_80.portfolio_data.head()\n"
   ]
  },
  {
   "cell_type": "code",
   "execution_count": 38,
   "metadata": {},
   "outputs": [
    {
     "name": "stdout",
     "output_type": "stream",
     "text": [
      "Running Monte Carlo simulation number 0.\n",
      "Running Monte Carlo simulation number 10.\n",
      "Running Monte Carlo simulation number 20.\n",
      "Running Monte Carlo simulation number 30.\n",
      "Running Monte Carlo simulation number 40.\n",
      "Running Monte Carlo simulation number 50.\n",
      "Running Monte Carlo simulation number 60.\n",
      "Running Monte Carlo simulation number 70.\n",
      "Running Monte Carlo simulation number 80.\n",
      "Running Monte Carlo simulation number 90.\n",
      "Running Monte Carlo simulation number 100.\n",
      "Running Monte Carlo simulation number 110.\n",
      "Running Monte Carlo simulation number 120.\n",
      "Running Monte Carlo simulation number 130.\n",
      "Running Monte Carlo simulation number 140.\n",
      "Running Monte Carlo simulation number 150.\n",
      "Running Monte Carlo simulation number 160.\n",
      "Running Monte Carlo simulation number 170.\n",
      "Running Monte Carlo simulation number 180.\n",
      "Running Monte Carlo simulation number 190.\n",
      "Running Monte Carlo simulation number 200.\n",
      "Running Monte Carlo simulation number 210.\n",
      "Running Monte Carlo simulation number 220.\n",
      "Running Monte Carlo simulation number 230.\n",
      "Running Monte Carlo simulation number 240.\n",
      "Running Monte Carlo simulation number 250.\n",
      "Running Monte Carlo simulation number 260.\n",
      "Running Monte Carlo simulation number 270.\n",
      "Running Monte Carlo simulation number 280.\n",
      "Running Monte Carlo simulation number 290.\n",
      "Running Monte Carlo simulation number 300.\n",
      "Running Monte Carlo simulation number 310.\n",
      "Running Monte Carlo simulation number 320.\n",
      "Running Monte Carlo simulation number 330.\n",
      "Running Monte Carlo simulation number 340.\n",
      "Running Monte Carlo simulation number 350.\n",
      "Running Monte Carlo simulation number 360.\n",
      "Running Monte Carlo simulation number 370.\n",
      "Running Monte Carlo simulation number 380.\n",
      "Running Monte Carlo simulation number 390.\n",
      "Running Monte Carlo simulation number 400.\n",
      "Running Monte Carlo simulation number 410.\n",
      "Running Monte Carlo simulation number 420.\n",
      "Running Monte Carlo simulation number 430.\n",
      "Running Monte Carlo simulation number 440.\n",
      "Running Monte Carlo simulation number 450.\n",
      "Running Monte Carlo simulation number 460.\n",
      "Running Monte Carlo simulation number 470.\n",
      "Running Monte Carlo simulation number 480.\n",
      "Running Monte Carlo simulation number 490.\n"
     ]
    },
    {
     "data": {
      "text/html": [
       "<div>\n",
       "<style scoped>\n",
       "    .dataframe tbody tr th:only-of-type {\n",
       "        vertical-align: middle;\n",
       "    }\n",
       "\n",
       "    .dataframe tbody tr th {\n",
       "        vertical-align: top;\n",
       "    }\n",
       "\n",
       "    .dataframe thead th {\n",
       "        text-align: right;\n",
       "    }\n",
       "</style>\n",
       "<table border=\"1\" class=\"dataframe\">\n",
       "  <thead>\n",
       "    <tr style=\"text-align: right;\">\n",
       "      <th></th>\n",
       "      <th>0</th>\n",
       "      <th>1</th>\n",
       "      <th>2</th>\n",
       "      <th>3</th>\n",
       "      <th>4</th>\n",
       "      <th>5</th>\n",
       "      <th>6</th>\n",
       "      <th>7</th>\n",
       "      <th>8</th>\n",
       "      <th>9</th>\n",
       "      <th>...</th>\n",
       "      <th>490</th>\n",
       "      <th>491</th>\n",
       "      <th>492</th>\n",
       "      <th>493</th>\n",
       "      <th>494</th>\n",
       "      <th>495</th>\n",
       "      <th>496</th>\n",
       "      <th>497</th>\n",
       "      <th>498</th>\n",
       "      <th>499</th>\n",
       "    </tr>\n",
       "  </thead>\n",
       "  <tbody>\n",
       "    <tr>\n",
       "      <th>0</th>\n",
       "      <td>1.000000</td>\n",
       "      <td>1.000000</td>\n",
       "      <td>1.000000</td>\n",
       "      <td>1.000000</td>\n",
       "      <td>1.000000</td>\n",
       "      <td>1.000000</td>\n",
       "      <td>1.000000</td>\n",
       "      <td>1.000000</td>\n",
       "      <td>1.000000</td>\n",
       "      <td>1.000000</td>\n",
       "      <td>...</td>\n",
       "      <td>1.000000</td>\n",
       "      <td>1.000000</td>\n",
       "      <td>1.000000</td>\n",
       "      <td>1.000000</td>\n",
       "      <td>1.000000</td>\n",
       "      <td>1.000000</td>\n",
       "      <td>1.000000</td>\n",
       "      <td>1.000000</td>\n",
       "      <td>1.000000</td>\n",
       "      <td>1.000000</td>\n",
       "    </tr>\n",
       "    <tr>\n",
       "      <th>1</th>\n",
       "      <td>1.000953</td>\n",
       "      <td>0.980307</td>\n",
       "      <td>1.010649</td>\n",
       "      <td>0.984882</td>\n",
       "      <td>0.994994</td>\n",
       "      <td>1.002159</td>\n",
       "      <td>1.019376</td>\n",
       "      <td>0.990942</td>\n",
       "      <td>0.992185</td>\n",
       "      <td>0.996043</td>\n",
       "      <td>...</td>\n",
       "      <td>0.989686</td>\n",
       "      <td>1.007555</td>\n",
       "      <td>0.981923</td>\n",
       "      <td>1.011654</td>\n",
       "      <td>0.991898</td>\n",
       "      <td>1.009593</td>\n",
       "      <td>0.999027</td>\n",
       "      <td>0.991462</td>\n",
       "      <td>1.026962</td>\n",
       "      <td>0.998725</td>\n",
       "    </tr>\n",
       "    <tr>\n",
       "      <th>2</th>\n",
       "      <td>0.984324</td>\n",
       "      <td>0.989789</td>\n",
       "      <td>1.004136</td>\n",
       "      <td>0.979614</td>\n",
       "      <td>1.011882</td>\n",
       "      <td>1.009245</td>\n",
       "      <td>1.023221</td>\n",
       "      <td>0.975518</td>\n",
       "      <td>1.006123</td>\n",
       "      <td>1.008536</td>\n",
       "      <td>...</td>\n",
       "      <td>0.994281</td>\n",
       "      <td>1.019341</td>\n",
       "      <td>0.994711</td>\n",
       "      <td>1.004550</td>\n",
       "      <td>1.001698</td>\n",
       "      <td>1.020896</td>\n",
       "      <td>0.982099</td>\n",
       "      <td>0.987186</td>\n",
       "      <td>1.036313</td>\n",
       "      <td>1.009970</td>\n",
       "    </tr>\n",
       "    <tr>\n",
       "      <th>3</th>\n",
       "      <td>0.986117</td>\n",
       "      <td>0.989149</td>\n",
       "      <td>1.023487</td>\n",
       "      <td>0.998871</td>\n",
       "      <td>1.014257</td>\n",
       "      <td>1.025353</td>\n",
       "      <td>1.001687</td>\n",
       "      <td>0.974889</td>\n",
       "      <td>1.000924</td>\n",
       "      <td>1.001100</td>\n",
       "      <td>...</td>\n",
       "      <td>0.975011</td>\n",
       "      <td>0.996350</td>\n",
       "      <td>0.979632</td>\n",
       "      <td>0.997417</td>\n",
       "      <td>0.978728</td>\n",
       "      <td>1.029042</td>\n",
       "      <td>0.987641</td>\n",
       "      <td>0.986652</td>\n",
       "      <td>1.050988</td>\n",
       "      <td>1.003677</td>\n",
       "    </tr>\n",
       "    <tr>\n",
       "      <th>4</th>\n",
       "      <td>0.981421</td>\n",
       "      <td>0.978010</td>\n",
       "      <td>1.009438</td>\n",
       "      <td>0.993012</td>\n",
       "      <td>1.016720</td>\n",
       "      <td>1.045171</td>\n",
       "      <td>1.037860</td>\n",
       "      <td>0.950914</td>\n",
       "      <td>0.986822</td>\n",
       "      <td>1.029531</td>\n",
       "      <td>...</td>\n",
       "      <td>0.980441</td>\n",
       "      <td>0.996441</td>\n",
       "      <td>0.977122</td>\n",
       "      <td>0.989998</td>\n",
       "      <td>0.964790</td>\n",
       "      <td>1.036106</td>\n",
       "      <td>0.987103</td>\n",
       "      <td>0.981344</td>\n",
       "      <td>1.054680</td>\n",
       "      <td>1.000082</td>\n",
       "    </tr>\n",
       "    <tr>\n",
       "      <th>...</th>\n",
       "      <td>...</td>\n",
       "      <td>...</td>\n",
       "      <td>...</td>\n",
       "      <td>...</td>\n",
       "      <td>...</td>\n",
       "      <td>...</td>\n",
       "      <td>...</td>\n",
       "      <td>...</td>\n",
       "      <td>...</td>\n",
       "      <td>...</td>\n",
       "      <td>...</td>\n",
       "      <td>...</td>\n",
       "      <td>...</td>\n",
       "      <td>...</td>\n",
       "      <td>...</td>\n",
       "      <td>...</td>\n",
       "      <td>...</td>\n",
       "      <td>...</td>\n",
       "      <td>...</td>\n",
       "      <td>...</td>\n",
       "      <td>...</td>\n",
       "    </tr>\n",
       "    <tr>\n",
       "      <th>2516</th>\n",
       "      <td>2.105566</td>\n",
       "      <td>2.316215</td>\n",
       "      <td>3.017112</td>\n",
       "      <td>3.158823</td>\n",
       "      <td>19.712203</td>\n",
       "      <td>1.748194</td>\n",
       "      <td>3.920665</td>\n",
       "      <td>2.012870</td>\n",
       "      <td>2.081870</td>\n",
       "      <td>1.440696</td>\n",
       "      <td>...</td>\n",
       "      <td>1.540048</td>\n",
       "      <td>10.692833</td>\n",
       "      <td>2.891847</td>\n",
       "      <td>4.392148</td>\n",
       "      <td>2.814812</td>\n",
       "      <td>3.556838</td>\n",
       "      <td>1.954082</td>\n",
       "      <td>1.188936</td>\n",
       "      <td>2.372160</td>\n",
       "      <td>2.037958</td>\n",
       "    </tr>\n",
       "    <tr>\n",
       "      <th>2517</th>\n",
       "      <td>2.102855</td>\n",
       "      <td>2.394992</td>\n",
       "      <td>3.041915</td>\n",
       "      <td>3.180053</td>\n",
       "      <td>19.424218</td>\n",
       "      <td>1.736705</td>\n",
       "      <td>3.903536</td>\n",
       "      <td>1.990958</td>\n",
       "      <td>2.087141</td>\n",
       "      <td>1.444587</td>\n",
       "      <td>...</td>\n",
       "      <td>1.542460</td>\n",
       "      <td>10.828615</td>\n",
       "      <td>2.881725</td>\n",
       "      <td>4.389554</td>\n",
       "      <td>2.834891</td>\n",
       "      <td>3.563947</td>\n",
       "      <td>1.986418</td>\n",
       "      <td>1.213551</td>\n",
       "      <td>2.371263</td>\n",
       "      <td>1.995580</td>\n",
       "    </tr>\n",
       "    <tr>\n",
       "      <th>2518</th>\n",
       "      <td>2.081171</td>\n",
       "      <td>2.406784</td>\n",
       "      <td>3.015655</td>\n",
       "      <td>3.145723</td>\n",
       "      <td>19.146024</td>\n",
       "      <td>1.730276</td>\n",
       "      <td>3.907895</td>\n",
       "      <td>1.974737</td>\n",
       "      <td>2.034483</td>\n",
       "      <td>1.460043</td>\n",
       "      <td>...</td>\n",
       "      <td>1.542515</td>\n",
       "      <td>10.767199</td>\n",
       "      <td>2.899696</td>\n",
       "      <td>4.428830</td>\n",
       "      <td>2.843583</td>\n",
       "      <td>3.564926</td>\n",
       "      <td>1.985181</td>\n",
       "      <td>1.211449</td>\n",
       "      <td>2.379975</td>\n",
       "      <td>2.026095</td>\n",
       "    </tr>\n",
       "    <tr>\n",
       "      <th>2519</th>\n",
       "      <td>2.104735</td>\n",
       "      <td>2.424965</td>\n",
       "      <td>3.065507</td>\n",
       "      <td>3.122218</td>\n",
       "      <td>19.476487</td>\n",
       "      <td>1.702414</td>\n",
       "      <td>3.845971</td>\n",
       "      <td>1.957091</td>\n",
       "      <td>2.015950</td>\n",
       "      <td>1.473527</td>\n",
       "      <td>...</td>\n",
       "      <td>1.557708</td>\n",
       "      <td>10.854827</td>\n",
       "      <td>2.887247</td>\n",
       "      <td>4.362716</td>\n",
       "      <td>2.902832</td>\n",
       "      <td>3.530598</td>\n",
       "      <td>1.995648</td>\n",
       "      <td>1.210374</td>\n",
       "      <td>2.354357</td>\n",
       "      <td>1.989297</td>\n",
       "    </tr>\n",
       "    <tr>\n",
       "      <th>2520</th>\n",
       "      <td>2.083621</td>\n",
       "      <td>2.392643</td>\n",
       "      <td>3.067334</td>\n",
       "      <td>3.061012</td>\n",
       "      <td>19.446421</td>\n",
       "      <td>1.705702</td>\n",
       "      <td>3.808411</td>\n",
       "      <td>1.960489</td>\n",
       "      <td>2.020236</td>\n",
       "      <td>1.473215</td>\n",
       "      <td>...</td>\n",
       "      <td>1.556372</td>\n",
       "      <td>10.747395</td>\n",
       "      <td>2.885333</td>\n",
       "      <td>4.305682</td>\n",
       "      <td>2.896325</td>\n",
       "      <td>3.563022</td>\n",
       "      <td>1.986479</td>\n",
       "      <td>1.223071</td>\n",
       "      <td>2.361470</td>\n",
       "      <td>1.975359</td>\n",
       "    </tr>\n",
       "  </tbody>\n",
       "</table>\n",
       "<p>2521 rows × 500 columns</p>\n",
       "</div>"
      ],
      "text/plain": [
       "           0         1         2         3          4         5         6    \\\n",
       "0     1.000000  1.000000  1.000000  1.000000   1.000000  1.000000  1.000000   \n",
       "1     1.000953  0.980307  1.010649  0.984882   0.994994  1.002159  1.019376   \n",
       "2     0.984324  0.989789  1.004136  0.979614   1.011882  1.009245  1.023221   \n",
       "3     0.986117  0.989149  1.023487  0.998871   1.014257  1.025353  1.001687   \n",
       "4     0.981421  0.978010  1.009438  0.993012   1.016720  1.045171  1.037860   \n",
       "...        ...       ...       ...       ...        ...       ...       ...   \n",
       "2516  2.105566  2.316215  3.017112  3.158823  19.712203  1.748194  3.920665   \n",
       "2517  2.102855  2.394992  3.041915  3.180053  19.424218  1.736705  3.903536   \n",
       "2518  2.081171  2.406784  3.015655  3.145723  19.146024  1.730276  3.907895   \n",
       "2519  2.104735  2.424965  3.065507  3.122218  19.476487  1.702414  3.845971   \n",
       "2520  2.083621  2.392643  3.067334  3.061012  19.446421  1.705702  3.808411   \n",
       "\n",
       "           7         8         9    ...       490        491       492  \\\n",
       "0     1.000000  1.000000  1.000000  ...  1.000000   1.000000  1.000000   \n",
       "1     0.990942  0.992185  0.996043  ...  0.989686   1.007555  0.981923   \n",
       "2     0.975518  1.006123  1.008536  ...  0.994281   1.019341  0.994711   \n",
       "3     0.974889  1.000924  1.001100  ...  0.975011   0.996350  0.979632   \n",
       "4     0.950914  0.986822  1.029531  ...  0.980441   0.996441  0.977122   \n",
       "...        ...       ...       ...  ...       ...        ...       ...   \n",
       "2516  2.012870  2.081870  1.440696  ...  1.540048  10.692833  2.891847   \n",
       "2517  1.990958  2.087141  1.444587  ...  1.542460  10.828615  2.881725   \n",
       "2518  1.974737  2.034483  1.460043  ...  1.542515  10.767199  2.899696   \n",
       "2519  1.957091  2.015950  1.473527  ...  1.557708  10.854827  2.887247   \n",
       "2520  1.960489  2.020236  1.473215  ...  1.556372  10.747395  2.885333   \n",
       "\n",
       "           493       494       495       496       497       498       499  \n",
       "0     1.000000  1.000000  1.000000  1.000000  1.000000  1.000000  1.000000  \n",
       "1     1.011654  0.991898  1.009593  0.999027  0.991462  1.026962  0.998725  \n",
       "2     1.004550  1.001698  1.020896  0.982099  0.987186  1.036313  1.009970  \n",
       "3     0.997417  0.978728  1.029042  0.987641  0.986652  1.050988  1.003677  \n",
       "4     0.989998  0.964790  1.036106  0.987103  0.981344  1.054680  1.000082  \n",
       "...        ...       ...       ...       ...       ...       ...       ...  \n",
       "2516  4.392148  2.814812  3.556838  1.954082  1.188936  2.372160  2.037958  \n",
       "2517  4.389554  2.834891  3.563947  1.986418  1.213551  2.371263  1.995580  \n",
       "2518  4.428830  2.843583  3.564926  1.985181  1.211449  2.379975  2.026095  \n",
       "2519  4.362716  2.902832  3.530598  1.995648  1.210374  2.354357  1.989297  \n",
       "2520  4.305682  2.896325  3.563022  1.986479  1.223071  2.361470  1.975359  \n",
       "\n",
       "[2521 rows x 500 columns]"
      ]
     },
     "execution_count": 38,
     "metadata": {},
     "output_type": "execute_result"
    }
   ],
   "source": [
    "# Run the Monte Carlo simulation to forecast 10 years cumulative returns\n",
    "mc_ten_year_20_80.calc_cumulative_return()\n"
   ]
  },
  {
   "cell_type": "code",
   "execution_count": 39,
   "metadata": {},
   "outputs": [
    {
     "data": {
      "image/png": "[encoded data removed]",
      "text/plain": [
       "<Figure size 432x288 with 1 Axes>"
      ]
     },
     "metadata": {
      "needs_background": "light"
     },
     "output_type": "display_data"
    }
   ],
   "source": [
    "# Visualize the 10-year Monte Carlo simulation by creating an\n",
    "# overlay line plot\n",
    "mc_ten_year_20_80_sim_line_plot = mc_ten_year_20_80.plot_simulation()\n"
   ]
  },
  {
   "cell_type": "code",
   "execution_count": 40,
   "metadata": {},
   "outputs": [
    {
     "data": {
      "image/png": "[encoded data removed]",
      "text/plain": [
       "<Figure size 432x288 with 1 Axes>"
      ]
     },
     "metadata": {
      "needs_background": "light"
     },
     "output_type": "display_data"
    }
   ],
   "source": [
    "# Visualize the probability distribution of the 10-year Monte Carlo simulation \n",
    "# by plotting a histogram\n",
    "mc_ten_year_20_80_sim_dist_plot = mc_ten_year_20_80.plot_distribution()\n"
   ]
  },
  {
   "cell_type": "code",
   "execution_count": 41,
   "metadata": {},
   "outputs": [
    {
     "name": "stdout",
     "output_type": "stream",
     "text": [
      "count           500.000000\n",
      "mean              4.311984\n",
      "std               2.837758\n",
      "min               0.752024\n",
      "25%               2.316367\n",
      "50%               3.549346\n",
      "75%               5.324723\n",
      "max              23.912376\n",
      "95% CI Lower      1.238943\n",
      "95% CI Upper     11.658151\n",
      "Name: 2520, dtype: float64\n"
     ]
    }
   ],
   "source": [
    "# Generate summary statistics from the 10-year Monte Carlo simulation results\n",
    "# Save the results as a variable\n",
    "mc_ten_year_20_80_summary_statistics = mc_ten_year_20_80.summarize_cumulative_return()\n",
    "\n",
    "# Review the 10-year Monte Carlo summary statistics\n",
    "print(mc_ten_year_20_80_summary_statistics)"
   ]
  },
  {
   "cell_type": "markdown",
   "metadata": {},
   "source": [
    "### Answer the following questions:"
   ]
  },
  {
   "cell_type": "markdown",
   "metadata": {},
   "source": [
    "#### Question: Using the current value of only the stock and bond portion of the member's portfolio and the summary statistics that you generated from the new Monte Carlo simulation, what are the lower and upper bounds for the expected value of the portfolio (with the new weights) with a 95% confidence interval?"
   ]
  },
  {
   "cell_type": "code",
   "execution_count": 42,
   "metadata": {},
   "outputs": [
    {
     "name": "stdout",
     "output_type": "stream",
     "text": [
      "The value of the stock and bond portion of the portfolio is $71,568.40\n"
     ]
    }
   ],
   "source": [
    "# Print the current balance of the stock and bond portion of the members portfolio\n",
    "print(f\"The value of the stock and bond portion of the portfolio is ${total_stocks_bonds:,.2f}\")"
   ]
  },
  {
   "cell_type": "code",
   "execution_count": 45,
   "metadata": {},
   "outputs": [
    {
     "name": "stdout",
     "output_type": "stream",
     "text": [
      "There is a 95% chance that an initial investment of $71,568.40 in the portfolio over the next 10 year will end within in the range of $88,669.15 and $834,355.23.\n"
     ]
    }
   ],
   "source": [
    "# Use the lower and upper `95%` confidence intervals to calculate the range of the possible outcomes for the current stock/bond portfolio\n",
    "ci_lower_ten_cumulative_return = round(\n",
    "                mc_ten_year_20_80_summary_statistics[8] * total_stocks_bonds, 2)\n",
    "ci_upper_ten_cumulative_return = round(\n",
    "                mc_ten_year_20_80_summary_statistics[9] * total_stocks_bonds, 2)\n",
    "\n",
    "# Print the result of your calculations\n",
    "print(f\"There is a 95% chance that an initial investment of \"\n",
    "      f\"${total_stocks_bonds:,.2f} in the portfolio\"\n",
    "      f\" over the next 10 year will end within in the range of\"\n",
    "      f\" ${ci_lower_ten_cumulative_return:,.2f} and \"\n",
    "      f\"${ci_upper_ten_cumulative_return:,.2f}.\")"
   ]
  },
  {
   "cell_type": "markdown",
   "metadata": {},
   "source": [
    "#### Question: Will weighting the portfolio more heavily to stocks allow the credit union members to retire after only 10 years?"
   ]
  },
  {
   "cell_type": "raw",
   "metadata": {},
   "source": [
    "**Answer** # There is a 95% chance that an initial investment of $71,568.40 in the 20/80 portfolio over the next 10 year will end within in the range of $88,669.15 and $834,355.23\n",
    "\n",
    "There is a 95% chance that an initial investment of $71,568.40 in the 40/60 portfolio over the next 30 year will end within in the range of $426,155.24 and $7,642,665.48.\n",
    "\n",
    "TODO"
   ]
  },
  {
   "cell_type": "code",
   "execution_count": null,
   "metadata": {},
   "outputs": [],
   "source": []
  }
 ],
 "metadata": {
  "kernelspec": {
   "display_name": "Python (dev)",
   "language": "python",
   "name": "dev"
  },
  "language_info": {
   "codemirror_mode": {
    "name": "ipython",
    "version": 3
   },
   "file_extension": ".py",
   "mimetype": "text/x-python",
   "name": "python",
   "nbconvert_exporter": "python",
   "pygments_lexer": "ipython3",
   "version": "3.7.10"
  }
 },
 "nbformat": 4,
 "nbformat_minor": 4
}
